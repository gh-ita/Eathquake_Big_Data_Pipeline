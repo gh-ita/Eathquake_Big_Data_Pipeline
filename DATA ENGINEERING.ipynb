{
 "cells": [
  {
   "cell_type": "code",
   "execution_count": 1,
   "id": "be899f65",
   "metadata": {},
   "outputs": [],
   "source": [
    "import findspark \n",
    "findspark.init()"
   ]
  },
  {
   "cell_type": "code",
   "execution_count": 2,
   "id": "10c413ce",
   "metadata": {},
   "outputs": [],
   "source": [
    "import pyspark \n",
    "from pyspark.sql import SparkSession\n",
    "from pyspark.sql.types import *\n",
    "from pyspark.sql.functions import *\n",
    "\n",
    "spark = SparkSession\\\n",
    "    .builder\\\n",
    "    .master('local[2]')\\\n",
    "    .appName('quake_etl')\\\n",
    "    .config('spark.jars.packages', 'org.mongodb.spark:mongo-spark-connector_2.12:2.4.1')\\\n",
    "    .getOrCreate()\n"
   ]
  },
  {
   "cell_type": "code",
   "execution_count": 3,
   "id": "7eb97651",
   "metadata": {},
   "outputs": [],
   "source": [
    "from pyspark.ml import Pipeline\n",
    "from pyspark.ml.regression import RandomForestRegressor\n",
    "from pyspark.ml.feature import VectorAssembler\n",
    "from pyspark.ml.evaluation import RegressionEvaluator"
   ]
  },
  {
   "cell_type": "code",
   "execution_count": null,
   "id": "f46ef0df",
   "metadata": {},
   "outputs": [],
   "source": [
    "# load the dataset \n",
    "df_load = spark.read.csv(r\"C:\\Users\\ghita\\Downloads\\database.csv\", header=True)\n",
    "# Preview df_load\n",
    "df_load.take(1)"
   ]
  },
  {
   "cell_type": "code",
   "execution_count": 4,
   "id": "d69a8185",
   "metadata": {},
   "outputs": [
    {
     "name": "stdout",
     "output_type": "stream",
     "text": [
      "+----------+--------+---------+----------+-----+---------+--------------+------------+\n",
      "|      Date|Latitude|Longitude|      Type|Depth|Magnitude|Magnitude Type|          ID|\n",
      "+----------+--------+---------+----------+-----+---------+--------------+------------+\n",
      "|01/02/1965|  19.246|  145.616|Earthquake|131.6|        6|            MW|ISCGEM860706|\n",
      "|01/04/1965|   1.863|  127.352|Earthquake|   80|      5.8|            MW|ISCGEM860737|\n",
      "|01/05/1965| -20.579| -173.972|Earthquake|   20|      6.2|            MW|ISCGEM860762|\n",
      "|01/08/1965| -59.076|  -23.557|Earthquake|   15|      5.8|            MW|ISCGEM860856|\n",
      "|01/09/1965|  11.938|  126.427|Earthquake|   15|      5.8|            MW|ISCGEM860890|\n",
      "+----------+--------+---------+----------+-----+---------+--------------+------------+\n",
      "only showing top 5 rows\n",
      "\n"
     ]
    }
   ],
   "source": [
    "# drop fields we don t need from df_load \n",
    "lst_dropped_columns = ['Depth Error', 'Time', 'Depth Seismic Stations','Magnitude Error','Magnitude Seismic Stations','Azimuthal Gap', 'Horizontal Distance','Horizontal Error',\n",
    "    'Root Mean Square','Source','Location Source','Magnitude Source','Status']\n",
    "df_load = df_load.drop(*lst_dropped_columns)\n",
    "# Preview df_load\n",
    "df_load.show(5)"
   ]
  },
  {
   "cell_type": "code",
   "execution_count": 5,
   "id": "21e29bab",
   "metadata": {},
   "outputs": [
    {
     "name": "stdout",
     "output_type": "stream",
     "text": [
      "+----------+--------+---------+----------+-----+---------+--------------+------------+----+\n",
      "|      Date|Latitude|Longitude|      Type|Depth|Magnitude|Magnitude Type|          ID|Year|\n",
      "+----------+--------+---------+----------+-----+---------+--------------+------------+----+\n",
      "|01/02/1965|  19.246|  145.616|Earthquake|131.6|        6|            MW|ISCGEM860706|1965|\n",
      "|01/04/1965|   1.863|  127.352|Earthquake|   80|      5.8|            MW|ISCGEM860737|1965|\n",
      "|01/05/1965| -20.579| -173.972|Earthquake|   20|      6.2|            MW|ISCGEM860762|1965|\n",
      "|01/08/1965| -59.076|  -23.557|Earthquake|   15|      5.8|            MW|ISCGEM860856|1965|\n",
      "|01/09/1965|  11.938|  126.427|Earthquake|   15|      5.8|            MW|ISCGEM860890|1965|\n",
      "+----------+--------+---------+----------+-----+---------+--------------+------------+----+\n",
      "only showing top 5 rows\n",
      "\n"
     ]
    }
   ],
   "source": [
    "# Create a year field and add it to the dataframe \n",
    "\n",
    "df_load = df_load.withColumn('Year', year(to_timestamp('Date', 'dd/MM/yyyy')))\n",
    "# Preview df_load\n",
    "\n",
    "df_load.show(5)\n"
   ]
  },
  {
   "cell_type": "code",
   "execution_count": 6,
   "id": "c72341ac",
   "metadata": {},
   "outputs": [
    {
     "name": "stdout",
     "output_type": "stream",
     "text": [
      "+----+------+\n",
      "|Year|Counts|\n",
      "+----+------+\n",
      "|1990|   196|\n",
      "|1975|   150|\n",
      "|1977|   148|\n",
      "|2003|   187|\n",
      "|2007|   211|\n",
      "+----+------+\n",
      "only showing top 5 rows\n",
      "\n"
     ]
    }
   ],
   "source": [
    "# Build the quakes frequency dataframe using the year field and counts for each year \n",
    "\n",
    "df_quake_freq = df_load.groupBy('Year').count().withColumnRenamed('count','Counts')\n",
    "\n",
    "# Preview df_quake_freq\n",
    "\n",
    "df_quake_freq.show(5)"
   ]
  },
  {
   "cell_type": "code",
   "execution_count": 7,
   "id": "53dc34bd",
   "metadata": {},
   "outputs": [
    {
     "name": "stdout",
     "output_type": "stream",
     "text": [
      "root\n",
      " |-- Date: string (nullable = true)\n",
      " |-- Latitude: string (nullable = true)\n",
      " |-- Longitude: string (nullable = true)\n",
      " |-- Type: string (nullable = true)\n",
      " |-- Depth: string (nullable = true)\n",
      " |-- Magnitude: string (nullable = true)\n",
      " |-- Magnitude Type: string (nullable = true)\n",
      " |-- ID: string (nullable = true)\n",
      " |-- Year: integer (nullable = true)\n",
      "\n"
     ]
    }
   ],
   "source": [
    "# Preview df_load_schema \n",
    "df_load.printSchema()"
   ]
  },
  {
   "cell_type": "code",
   "execution_count": 8,
   "id": "3cf07c80",
   "metadata": {},
   "outputs": [
    {
     "name": "stdout",
     "output_type": "stream",
     "text": [
      "root\n",
      " |-- Date: string (nullable = true)\n",
      " |-- Latitude: double (nullable = true)\n",
      " |-- Longitude: double (nullable = true)\n",
      " |-- Type: string (nullable = true)\n",
      " |-- Depth: double (nullable = true)\n",
      " |-- Magnitude: double (nullable = true)\n",
      " |-- Magnitude Type: string (nullable = true)\n",
      " |-- ID: string (nullable = true)\n",
      " |-- Year: integer (nullable = true)\n",
      "\n"
     ]
    }
   ],
   "source": [
    "# Cast some fields from string into numeric types \n",
    "\n",
    "df_load = df_load.withColumn('Latitude', df_load['Latitude'].cast(DoubleType()))\\\n",
    "    .withColumn('Longitude', df_load['Longitude'].cast(DoubleType()))\\\n",
    "    .withColumn('Depth', df_load['Depth'].cast(DoubleType()))\\\n",
    "    .withColumn('Magnitude', df_load['Magnitude'].cast(DoubleType()))\n",
    "\n",
    "# Preview df_load\n",
    "\n",
    "df_load.printSchema()"
   ]
  },
  {
   "cell_type": "code",
   "execution_count": 9,
   "id": "57485aa6",
   "metadata": {},
   "outputs": [
    {
     "name": "stdout",
     "output_type": "stream",
     "text": [
      "+----+-----------------+\n",
      "|Year|    Avg_Magnitude|\n",
      "+----+-----------------+\n",
      "|1990|5.858163265306125|\n",
      "|1975| 5.84866666666667|\n",
      "|1977|5.757432432432437|\n",
      "|2003|5.850802139037435|\n",
      "|2007| 5.89099526066351|\n",
      "+----+-----------------+\n",
      "only showing top 5 rows\n",
      "\n"
     ]
    }
   ],
   "source": [
    "# Create avg magnitude and max magnitude and add to df_quake_freq\n",
    "\n",
    "df_max = df_load.groupBy('Year').max('Magnitude').withColumnRenamed('max(Magnitude)','Max_Magnitude')\n",
    "df_avg = df_load.groupBy('Year').avg('Magnitude').withColumnRenamed('avg(Magnitude)', 'Avg_Magnitude')\n",
    "df_avg.show(5)"
   ]
  },
  {
   "cell_type": "code",
   "execution_count": 10,
   "id": "a5789820",
   "metadata": {},
   "outputs": [
    {
     "name": "stdout",
     "output_type": "stream",
     "text": [
      "+----+------+-----------------+-------------+\n",
      "|Year|Counts|    Avg_Magnitude|Max_Magnitude|\n",
      "+----+------+-----------------+-------------+\n",
      "|1990|   196|5.858163265306125|          7.6|\n",
      "|1975|   150| 5.84866666666667|          7.8|\n",
      "|1977|   148|5.757432432432437|          7.6|\n",
      "|2003|   187|5.850802139037435|          7.6|\n",
      "|2007|   211| 5.89099526066351|          8.4|\n",
      "+----+------+-----------------+-------------+\n",
      "only showing top 5 rows\n",
      "\n"
     ]
    }
   ],
   "source": [
    "# join df_max and df_avg to df_quake_freq\n",
    "\n",
    "df_quake_freq = df_quake_freq.join(df_avg,['Year']).join(df_max,['Year'])\n",
    "\n",
    "#Preview df_quake_freq\n",
    "\n",
    "df_quake_freq.show(5)"
   ]
  },
  {
   "cell_type": "code",
   "execution_count": 11,
   "id": "44eb7d97",
   "metadata": {},
   "outputs": [
    {
     "data": {
      "text/plain": [
       "DataFrame[Year: int, Counts: bigint, Avg_Magnitude: double, Max_Magnitude: double]"
      ]
     },
     "execution_count": 11,
     "metadata": {},
     "output_type": "execute_result"
    }
   ],
   "source": [
    "# Remove null\n",
    "\n",
    "df_load.dropna()\n",
    "df_quake_freq.dropna()"
   ]
  },
  {
   "cell_type": "code",
   "execution_count": 14,
   "id": "a3afca20",
   "metadata": {},
   "outputs": [],
   "source": [
    "#Build the tables/collections in mongodb\n",
    "#write df_load to mongodb\n",
    "\n",
    "df_load.write.format('mongo')\\\n",
    "     .mode('overwrite')\\\n",
    "     .option('spark.mongodb.output.uri', 'mongodb://localhost:27017/Quake.quakes').save()"
   ]
  },
  {
   "cell_type": "code",
   "execution_count": 15,
   "id": "c3ca4c88",
   "metadata": {},
   "outputs": [],
   "source": [
    "# write df_quake_freq to mongodb\n",
    "\n",
    "df_quake_freq.write.format('mongo')\\\n",
    "     .mode('overwrite')\\\n",
    "     .option('spark.mongodb.output.uri', 'mongodb://localhost:27017/Quake.quake_freq').save()"
   ]
  },
  {
   "cell_type": "markdown",
   "id": "a6079b9c",
   "metadata": {},
   "source": [
    "# Section: Machine Learning with Spark\n",
    "\n"
   ]
  },
  {
   "cell_type": "code",
   "execution_count": 4,
   "id": "cd8684ab",
   "metadata": {},
   "outputs": [
    {
     "data": {
      "text/plain": [
       "[Row(time='2017-01-02T00:13:06.300Z', latitude='-36.0365', longitude='51.9288', depth='10', mag='5.7', magType='mwb', nst=None, gap='26', dmin='14.685', rms='1.37', net='us', id='us10007p5d', updated='2017-03-27T23:53:17.040Z', place='Southwest Indian Ridge', type='earthquake', horizontalError='10.3', depthError='1.7', magError='0.068', magNst='21', status='reviewed', locationSource='us', magSource='us')]"
      ]
     },
     "execution_count": 4,
     "metadata": {},
     "output_type": "execute_result"
    }
   ],
   "source": [
    "# Load the test data into a dataframe \n",
    "\n",
    "df_test = spark.read.csv(r\"C:\\Users\\ghita\\Downloads\\query.csv\", header=True)\n",
    "\n",
    "# Preview df_test\n",
    "df_test.take(1)"
   ]
  },
  {
   "cell_type": "code",
   "execution_count": 5,
   "id": "47d56e30",
   "metadata": {},
   "outputs": [
    {
     "name": "stdout",
     "output_type": "stream",
     "text": [
      "+----------+-----+------------+--------+---------+---------+--------------+----------+----+--------------------+\n",
      "|      Date|Depth|          ID|Latitude|Longitude|Magnitude|Magnitude Type|      Type|Year|                 _id|\n",
      "+----------+-----+------------+--------+---------+---------+--------------+----------+----+--------------------+\n",
      "|01/02/1965|131.6|ISCGEM860706|  19.246|  145.616|      6.0|            MW|Earthquake|1965|{65b7b9f56ed8fd5c...|\n",
      "|01/04/1965| 80.0|ISCGEM860737|   1.863|  127.352|      5.8|            MW|Earthquake|1965|{65b7b9f56ed8fd5c...|\n",
      "|01/05/1965| 20.0|ISCGEM860762| -20.579| -173.972|      6.2|            MW|Earthquake|1965|{65b7b9f56ed8fd5c...|\n",
      "|01/08/1965| 15.0|ISCGEM860856| -59.076|  -23.557|      5.8|            MW|Earthquake|1965|{65b7b9f56ed8fd5c...|\n",
      "|01/09/1965| 15.0|ISCGEM860890|  11.938|  126.427|      5.8|            MW|Earthquake|1965|{65b7b9f56ed8fd5c...|\n",
      "+----------+-----+------------+--------+---------+---------+--------------+----------+----+--------------------+\n",
      "only showing top 5 rows\n",
      "\n"
     ]
    }
   ],
   "source": [
    "# Load the training data from mongo into a dataframe\n",
    "\n",
    "df_train = spark.read.format('mongo')\\\n",
    "   .option('spark.mongodb.input.uri','mongodb://localhost:27017/Quake.quakes').load()\n",
    "\n",
    "# Preview df_train\n",
    "\n",
    "df_train.show(5)"
   ]
  },
  {
   "cell_type": "code",
   "execution_count": 6,
   "id": "505fefe1",
   "metadata": {},
   "outputs": [
    {
     "name": "stdout",
     "output_type": "stream",
     "text": [
      "+--------------------+--------+---------+---+------+\n",
      "|                time|latitude|longitude|mag| depth|\n",
      "+--------------------+--------+---------+---+------+\n",
      "|2017-01-02T00:13:...|-36.0365|  51.9288|5.7|    10|\n",
      "|2017-01-02T13:13:...|  -4.895| -76.3675|5.9|   106|\n",
      "|2017-01-02T13:14:...|-23.2513| 179.2383|6.3|551.62|\n",
      "|2017-01-03T09:09:...| 24.0151|  92.0177|5.7|    32|\n",
      "|2017-01-03T21:19:...|-43.3527| -74.5017|5.5| 10.26|\n",
      "+--------------------+--------+---------+---+------+\n",
      "only showing top 5 rows\n",
      "\n"
     ]
    }
   ],
   "source": [
    "# Select fields we will use and discard fields we don't need\n",
    "\n",
    "df_test_clean = df_test['time','latitude','longitude','mag','depth']\n",
    "# Preview df_test_clean \n",
    "df_test_clean.show(5)"
   ]
  },
  {
   "cell_type": "code",
   "execution_count": 9,
   "id": "ef510875",
   "metadata": {},
   "outputs": [
    {
     "name": "stdout",
     "output_type": "stream",
     "text": [
      "+--------------------+--------+---------+---------+------+\n",
      "|                Date|Latitude|Longitude|Magnitude| Depth|\n",
      "+--------------------+--------+---------+---------+------+\n",
      "|2017-01-02T00:13:...|-36.0365|  51.9288|      5.7|    10|\n",
      "|2017-01-02T13:13:...|  -4.895| -76.3675|      5.9|   106|\n",
      "|2017-01-02T13:14:...|-23.2513| 179.2383|      6.3|551.62|\n",
      "|2017-01-03T09:09:...| 24.0151|  92.0177|      5.7|    32|\n",
      "|2017-01-03T21:19:...|-43.3527| -74.5017|      5.5| 10.26|\n",
      "+--------------------+--------+---------+---------+------+\n",
      "only showing top 5 rows\n",
      "\n"
     ]
    }
   ],
   "source": [
    "# Rename fields\n",
    "df_test_clean = df_test_clean.withColumnRenamed('time', 'Date')\\\n",
    "     .withColumnRenamed('latitude', 'Latitude')\\\n",
    "     .withColumnRenamed('longitude', 'Longitude')\\\n",
    "     .withColumnRenamed('mag', 'Magnitude')\\\n",
    "     .withColumnRenamed('depth', 'Depth')\\\n",
    "\n",
    "df_test_clean.show(5)"
   ]
  },
  {
   "cell_type": "code",
   "execution_count": 11,
   "id": "25f31b6e",
   "metadata": {},
   "outputs": [
    {
     "name": "stdout",
     "output_type": "stream",
     "text": [
      "root\n",
      " |-- Date: string (nullable = true)\n",
      " |-- Latitude: string (nullable = true)\n",
      " |-- Longitude: string (nullable = true)\n",
      " |-- Magnitude: string (nullable = true)\n",
      " |-- Depth: string (nullable = true)\n",
      "\n"
     ]
    }
   ],
   "source": [
    "df_test_clean.printSchema()"
   ]
  },
  {
   "cell_type": "code",
   "execution_count": 14,
   "id": "2f4f7b46",
   "metadata": {},
   "outputs": [],
   "source": [
    "# Cast some fields into numerical fields \n",
    "df_test_clean = df_test_clean.withColumn('Latitude', df_test_clean['Latitude'].cast(DoubleType()))\\\n",
    "      .withColumn('Longitude', df_test_clean['Longitude'].cast(DoubleType()))\\\n",
    "      .withColumn('Depth', df_test_clean['Depth'].cast(DoubleType()))\\\n",
    "      .withColumn('Magnitude', df_test_clean['Magnitude'].cast(DoubleType()))\\\n",
    "      "
   ]
  },
  {
   "cell_type": "code",
   "execution_count": 15,
   "id": "bcb5d350",
   "metadata": {},
   "outputs": [
    {
     "name": "stdout",
     "output_type": "stream",
     "text": [
      "root\n",
      " |-- Date: string (nullable = true)\n",
      " |-- Latitude: double (nullable = true)\n",
      " |-- Longitude: double (nullable = true)\n",
      " |-- Magnitude: double (nullable = true)\n",
      " |-- Depth: double (nullable = true)\n",
      "\n"
     ]
    }
   ],
   "source": [
    "df_test_clean.printSchema()"
   ]
  },
  {
   "cell_type": "code",
   "execution_count": 16,
   "id": "965f97c5",
   "metadata": {},
   "outputs": [],
   "source": [
    "# Create testing and training dataframes \n",
    "df_testing = df_test_clean['Latitude','Longitude','Magnitude','Depth']\n",
    "df_training = df_train['Latitude','Longitude','Magnitude','Depth']"
   ]
  },
  {
   "cell_type": "code",
   "execution_count": 18,
   "id": "3a5db02d",
   "metadata": {},
   "outputs": [
    {
     "name": "stdout",
     "output_type": "stream",
     "text": [
      "root\n",
      " |-- Latitude: double (nullable = true)\n",
      " |-- Longitude: double (nullable = true)\n",
      " |-- Magnitude: double (nullable = true)\n",
      " |-- Depth: double (nullable = true)\n",
      "\n"
     ]
    }
   ],
   "source": [
    "df_testing.printSchema()"
   ]
  },
  {
   "cell_type": "code",
   "execution_count": 19,
   "id": "8224a014",
   "metadata": {},
   "outputs": [],
   "source": [
    "# Drop records with null values from our dataframe \n",
    "df_testing = df_testing.dropna()\n",
    "df_training = df_training.dropna()"
   ]
  },
  {
   "cell_type": "code",
   "execution_count": 22,
   "id": "d9f3d210",
   "metadata": {},
   "outputs": [],
   "source": [
    "# Select features to parse into our model then create the feature vector \n",
    "assembler = VectorAssembler(inputCols = ['Latitude','Longitude','Depth'], outputCol='features')\n",
    "\n",
    "# Create the Model\n",
    "model_reg = RandomForestRegressor(featuresCol='features', labelCol='Magnitude')\n",
    "\n",
    "# Chain the assembler with the model in a pipeline \n",
    "pipeline = Pipeline(stages=[assembler, model_reg])\n",
    "\n",
    "# Train the model\n",
    "\n",
    "model = pipeline.fit(df_training)\n",
    "\n",
    "# Make the prediction on testing data\n",
    "\n",
    "pred_results = model.transform(df_testing)\n"
   ]
  },
  {
   "cell_type": "code",
   "execution_count": 23,
   "id": "b8707f67",
   "metadata": {},
   "outputs": [
    {
     "name": "stdout",
     "output_type": "stream",
     "text": [
      "+--------+---------+---------+------+--------------------+-----------------+\n",
      "|Latitude|Longitude|Magnitude| Depth|            features|       prediction|\n",
      "+--------+---------+---------+------+--------------------+-----------------+\n",
      "|-36.0365|  51.9288|      5.7|  10.0|[-36.0365,51.9288...|5.857693314646372|\n",
      "|  -4.895| -76.3675|      5.9| 106.0|[-4.895,-76.3675,...|   5.891439643237|\n",
      "|-23.2513| 179.2383|      6.3|551.62|[-23.2513,179.238...|5.869618330110986|\n",
      "| 24.0151|  92.0177|      5.7|  32.0|[24.0151,92.0177,...|5.921863245148279|\n",
      "|-43.3527| -74.5017|      5.5| 10.26|[-43.3527,-74.501...|5.950561153197301|\n",
      "+--------+---------+---------+------+--------------------+-----------------+\n",
      "only showing top 5 rows\n",
      "\n"
     ]
    }
   ],
   "source": [
    "# Preview pred_results dataframe \n",
    "pred_results.show(5)"
   ]
  },
  {
   "cell_type": "code",
   "execution_count": 24,
   "id": "058780a7",
   "metadata": {},
   "outputs": [
    {
     "name": "stdout",
     "output_type": "stream",
     "text": [
      "0.4041968304469984\n"
     ]
    }
   ],
   "source": [
    "# Evaluate the model \n",
    "# rmse should be less than 0.5 for the model to be useful \n",
    "\n",
    "evaluator = RegressionEvaluator(labelCol ='Magnitude', predictionCol='prediction',metricName='rmse')\n",
    "rmse = evaluator.evaluate(pred_results)\n",
    "print(rmse)"
   ]
  },
  {
   "cell_type": "markdown",
   "id": "4527d458",
   "metadata": {},
   "source": [
    "# Create the prediction dataset "
   ]
  },
  {
   "cell_type": "code",
   "execution_count": 25,
   "id": "e09f0491",
   "metadata": {},
   "outputs": [
    {
     "name": "stdout",
     "output_type": "stream",
     "text": [
      "+--------+---------+-----------------+----+------------------+\n",
      "|Latitude|Longitude|   Pred_Magnitude|Year|              RMSE|\n",
      "+--------+---------+-----------------+----+------------------+\n",
      "|-36.0365|  51.9288|5.857693314646372|2017|0.4041968304469984|\n",
      "|  -4.895| -76.3675|   5.891439643237|2017|0.4041968304469984|\n",
      "|-23.2513| 179.2383|5.869618330110986|2017|0.4041968304469984|\n",
      "| 24.0151|  92.0177|5.921863245148279|2017|0.4041968304469984|\n",
      "|-43.3527| -74.5017|5.950561153197301|2017|0.4041968304469984|\n",
      "+--------+---------+-----------------+----+------------------+\n",
      "only showing top 5 rows\n",
      "\n"
     ]
    }
   ],
   "source": [
    "# Create the prediction dataset \n",
    "df_pred_results = pred_results['Latitude','Longitude','prediction']\n",
    "\n",
    "# rename the prediction field \n",
    "\n",
    "df_pred_results = df_pred_results.withColumnRenamed('prediction','Pred_Magnitude')\n",
    "\n",
    "#add more columns to our prediction dataset \n",
    "df_pred_results = df_pred_results.withColumn('Year',lit(2017))\\\n",
    "       .withColumn('RMSE',lit(rmse))\n",
    "\n",
    "# Preview the prediction dataset \n",
    "df_pred_results.show(5)\n"
   ]
  },
  {
   "cell_type": "code",
   "execution_count": 26,
   "id": "d9d37548",
   "metadata": {},
   "outputs": [],
   "source": [
    "# Load the prediction dataset into mongodb\n",
    "\n",
    "# Write df_pred_results\n",
    "df_pred_results.write.format('mongo')\\\n",
    "     .mode('overwrite')\\\n",
    "     .option('spark.mongodb.output.uri', 'mongodb://localhost:27017/Quake.pred_results').save()\n",
    "                "
   ]
  },
  {
   "cell_type": "markdown",
   "id": "edbe3930",
   "metadata": {},
   "source": [
    "# Section : Data visualization"
   ]
  },
  {
   "cell_type": "code",
   "execution_count": 4,
   "id": "2b8b513c",
   "metadata": {
    "scrolled": true
   },
   "outputs": [
    {
     "name": "stderr",
     "output_type": "stream",
     "text": [
      "BokehDeprecationWarning: 'tile_providers module' was deprecated in Bokeh 3.0.0 and will be removed, use 'add_tile directly' instead.\n"
     ]
    }
   ],
   "source": [
    "import pandas as pd\n",
    "from bokeh.io import output_notebook, output_file\n",
    "from bokeh.plotting import figure, show, ColumnDataSource\n",
    "import math\n",
    "from math import pi \n",
    "from bokeh.palettes import Category20c\n",
    "from bokeh.transform import cumsum\n",
    "from bokeh.tile_providers import CARTODBPOSITRON\n",
    "from bokeh.themes import built_in_themes\n",
    "from bokeh.io import curdoc\n",
    "from pymongo import MongoClient\n"
   ]
  },
  {
   "cell_type": "code",
   "execution_count": 6,
   "id": "baa8b671",
   "metadata": {},
   "outputs": [
    {
     "name": "stdout",
     "output_type": "stream",
     "text": [
      "Collecting pymongo\n",
      "  Obtaining dependency information for pymongo from https://files.pythonhosted.org/packages/c8/1a/1ba5578cc3acc8ef0dfd6eb9385f9c4b0fe3039665af93bcf062c34fcdb6/pymongo-4.6.1-cp311-cp311-win_amd64.whl.metadata\n",
      "  Downloading pymongo-4.6.1-cp311-cp311-win_amd64.whl.metadata (22 kB)\n",
      "Collecting dnspython<3.0.0,>=1.16.0 (from pymongo)\n",
      "  Obtaining dependency information for dnspython<3.0.0,>=1.16.0 from https://files.pythonhosted.org/packages/b6/83/4a684a63d395007670bc95c1947c07045fe66141574e2f7e9e347df8499a/dnspython-2.5.0-py3-none-any.whl.metadata\n",
      "  Downloading dnspython-2.5.0-py3-none-any.whl.metadata (5.8 kB)\n",
      "Downloading pymongo-4.6.1-cp311-cp311-win_amd64.whl (472 kB)\n",
      "   ---------------------------------------- 0.0/472.7 kB ? eta -:--:--\n",
      "   --- ----------------------------------- 41.0/472.7 kB 653.6 kB/s eta 0:00:01\n",
      "   ----------------- ---------------------- 204.8/472.7 kB 2.1 MB/s eta 0:00:01\n",
      "   ----------------------- ---------------- 276.5/472.7 kB 2.4 MB/s eta 0:00:01\n",
      "   -------------------------------- ------- 389.1/472.7 kB 2.2 MB/s eta 0:00:01\n",
      "   ---------------------------------------- 472.7/472.7 kB 2.1 MB/s eta 0:00:00\n",
      "Downloading dnspython-2.5.0-py3-none-any.whl (305 kB)\n",
      "   ---------------------------------------- 0.0/305.4 kB ? eta -:--:--\n",
      "   --------------------- ------------------ 163.8/305.4 kB 5.0 MB/s eta 0:00:01\n",
      "   -------------------------- ------------- 204.8/305.4 kB 2.5 MB/s eta 0:00:01\n",
      "   ---------------------------------------- 305.4/305.4 kB 2.4 MB/s eta 0:00:00\n",
      "Installing collected packages: dnspython, pymongo\n",
      "Successfully installed dnspython-2.5.0 pymongo-4.6.1\n",
      "Note: you may need to restart the kernel to use updated packages.\n"
     ]
    }
   ],
   "source": [
    "pip install pymongo"
   ]
  },
  {
   "cell_type": "code",
   "execution_count": 5,
   "id": "d40c16a0",
   "metadata": {},
   "outputs": [],
   "source": [
    "# Create custom read function to read data from mongodb into a dataframe\n",
    "\n",
    "def read_mongo(host='127.0.0.1', port=27017, username=None, password=None,db='Quake', collection='pred_results'):\n",
    "    \n",
    "    mongo_uri = 'mongodb://{}:{}/{}.{}'.format(host,port,db,collection)\n",
    "    # Connect to mongodb\n",
    "    conn = MongoClient(mongo_uri)\n",
    "    db = conn[db]\n",
    "    \n",
    "    # Select all records from the collection \n",
    "    cursor = db[collection].find()\n",
    "    \n",
    "    # Create the dataframe\n",
    "    df = pd.DataFrame(list(cursor))\n",
    "    \n",
    "    # Delete the _id field \n",
    "    del df['_id']\n",
    "    \n",
    "    return df"
   ]
  },
  {
   "cell_type": "code",
   "execution_count": 6,
   "id": "4d4df38f",
   "metadata": {},
   "outputs": [],
   "source": [
    "# Load the dataset from mongodb \n",
    "df_quakes = read_mongo(collection='quakes')\n",
    "df_quake_freq = read_mongo(collection='quake_freq')\n",
    "df_quake_pred = read_mongo(collection='pred_results')"
   ]
  },
  {
   "cell_type": "code",
   "execution_count": 11,
   "id": "20b5ebfc",
   "metadata": {},
   "outputs": [
    {
     "data": {
      "text/html": [
       "<div>\n",
       "<style scoped>\n",
       "    .dataframe tbody tr th:only-of-type {\n",
       "        vertical-align: middle;\n",
       "    }\n",
       "\n",
       "    .dataframe tbody tr th {\n",
       "        vertical-align: top;\n",
       "    }\n",
       "\n",
       "    .dataframe thead th {\n",
       "        text-align: right;\n",
       "    }\n",
       "</style>\n",
       "<table border=\"1\" class=\"dataframe\">\n",
       "  <thead>\n",
       "    <tr style=\"text-align: right;\">\n",
       "      <th></th>\n",
       "      <th>Date</th>\n",
       "      <th>Latitude</th>\n",
       "      <th>Longitude</th>\n",
       "      <th>Type</th>\n",
       "      <th>Depth</th>\n",
       "      <th>Magnitude</th>\n",
       "      <th>Magnitude Type</th>\n",
       "      <th>ID</th>\n",
       "      <th>Year</th>\n",
       "    </tr>\n",
       "  </thead>\n",
       "  <tbody>\n",
       "    <tr>\n",
       "      <th>0</th>\n",
       "      <td>01/02/1965</td>\n",
       "      <td>19.246</td>\n",
       "      <td>145.616</td>\n",
       "      <td>Earthquake</td>\n",
       "      <td>131.6</td>\n",
       "      <td>6.0</td>\n",
       "      <td>MW</td>\n",
       "      <td>ISCGEM860706</td>\n",
       "      <td>1965.0</td>\n",
       "    </tr>\n",
       "    <tr>\n",
       "      <th>1</th>\n",
       "      <td>01/04/1965</td>\n",
       "      <td>1.863</td>\n",
       "      <td>127.352</td>\n",
       "      <td>Earthquake</td>\n",
       "      <td>80.0</td>\n",
       "      <td>5.8</td>\n",
       "      <td>MW</td>\n",
       "      <td>ISCGEM860737</td>\n",
       "      <td>1965.0</td>\n",
       "    </tr>\n",
       "    <tr>\n",
       "      <th>2</th>\n",
       "      <td>01/05/1965</td>\n",
       "      <td>-20.579</td>\n",
       "      <td>-173.972</td>\n",
       "      <td>Earthquake</td>\n",
       "      <td>20.0</td>\n",
       "      <td>6.2</td>\n",
       "      <td>MW</td>\n",
       "      <td>ISCGEM860762</td>\n",
       "      <td>1965.0</td>\n",
       "    </tr>\n",
       "    <tr>\n",
       "      <th>3</th>\n",
       "      <td>01/08/1965</td>\n",
       "      <td>-59.076</td>\n",
       "      <td>-23.557</td>\n",
       "      <td>Earthquake</td>\n",
       "      <td>15.0</td>\n",
       "      <td>5.8</td>\n",
       "      <td>MW</td>\n",
       "      <td>ISCGEM860856</td>\n",
       "      <td>1965.0</td>\n",
       "    </tr>\n",
       "    <tr>\n",
       "      <th>4</th>\n",
       "      <td>01/09/1965</td>\n",
       "      <td>11.938</td>\n",
       "      <td>126.427</td>\n",
       "      <td>Earthquake</td>\n",
       "      <td>15.0</td>\n",
       "      <td>5.8</td>\n",
       "      <td>MW</td>\n",
       "      <td>ISCGEM860890</td>\n",
       "      <td>1965.0</td>\n",
       "    </tr>\n",
       "  </tbody>\n",
       "</table>\n",
       "</div>"
      ],
      "text/plain": [
       "         Date  Latitude  Longitude        Type  Depth  Magnitude  \\\n",
       "0  01/02/1965    19.246    145.616  Earthquake  131.6        6.0   \n",
       "1  01/04/1965     1.863    127.352  Earthquake   80.0        5.8   \n",
       "2  01/05/1965   -20.579   -173.972  Earthquake   20.0        6.2   \n",
       "3  01/08/1965   -59.076    -23.557  Earthquake   15.0        5.8   \n",
       "4  01/09/1965    11.938    126.427  Earthquake   15.0        5.8   \n",
       "\n",
       "  Magnitude Type            ID    Year  \n",
       "0             MW  ISCGEM860706  1965.0  \n",
       "1             MW  ISCGEM860737  1965.0  \n",
       "2             MW  ISCGEM860762  1965.0  \n",
       "3             MW  ISCGEM860856  1965.0  \n",
       "4             MW  ISCGEM860890  1965.0  "
      ]
     },
     "execution_count": 11,
     "metadata": {},
     "output_type": "execute_result"
    }
   ],
   "source": [
    "df_quakes.head()"
   ]
  },
  {
   "cell_type": "code",
   "execution_count": 7,
   "id": "37caca3b",
   "metadata": {},
   "outputs": [
    {
     "data": {
      "text/html": [
       "<div>\n",
       "<style scoped>\n",
       "    .dataframe tbody tr th:only-of-type {\n",
       "        vertical-align: middle;\n",
       "    }\n",
       "\n",
       "    .dataframe tbody tr th {\n",
       "        vertical-align: top;\n",
       "    }\n",
       "\n",
       "    .dataframe thead th {\n",
       "        text-align: right;\n",
       "    }\n",
       "</style>\n",
       "<table border=\"1\" class=\"dataframe\">\n",
       "  <thead>\n",
       "    <tr style=\"text-align: right;\">\n",
       "      <th></th>\n",
       "      <th>Date</th>\n",
       "      <th>Latitude</th>\n",
       "      <th>Longitude</th>\n",
       "      <th>Type</th>\n",
       "      <th>Depth</th>\n",
       "      <th>Magnitude</th>\n",
       "      <th>Magnitude Type</th>\n",
       "      <th>ID</th>\n",
       "      <th>Year</th>\n",
       "    </tr>\n",
       "  </thead>\n",
       "  <tbody>\n",
       "    <tr>\n",
       "      <th>22943</th>\n",
       "      <td>01/01/2016</td>\n",
       "      <td>-50.5575</td>\n",
       "      <td>139.4489</td>\n",
       "      <td>Earthquake</td>\n",
       "      <td>10.00</td>\n",
       "      <td>6.3</td>\n",
       "      <td>MWW</td>\n",
       "      <td>US10004ANT</td>\n",
       "      <td>2016.0</td>\n",
       "    </tr>\n",
       "    <tr>\n",
       "      <th>22944</th>\n",
       "      <td>01/01/2016</td>\n",
       "      <td>-28.6278</td>\n",
       "      <td>-177.2810</td>\n",
       "      <td>Earthquake</td>\n",
       "      <td>34.00</td>\n",
       "      <td>5.8</td>\n",
       "      <td>MWW</td>\n",
       "      <td>US10004AQY</td>\n",
       "      <td>2016.0</td>\n",
       "    </tr>\n",
       "    <tr>\n",
       "      <th>22945</th>\n",
       "      <td>01/02/2016</td>\n",
       "      <td>44.8069</td>\n",
       "      <td>129.9406</td>\n",
       "      <td>Earthquake</td>\n",
       "      <td>585.47</td>\n",
       "      <td>5.8</td>\n",
       "      <td>MWW</td>\n",
       "      <td>US10004ATB</td>\n",
       "      <td>2016.0</td>\n",
       "    </tr>\n",
       "    <tr>\n",
       "      <th>22946</th>\n",
       "      <td>01/03/2016</td>\n",
       "      <td>24.8036</td>\n",
       "      <td>93.6505</td>\n",
       "      <td>Earthquake</td>\n",
       "      <td>55.00</td>\n",
       "      <td>6.7</td>\n",
       "      <td>MWW</td>\n",
       "      <td>US10004B2N</td>\n",
       "      <td>2016.0</td>\n",
       "    </tr>\n",
       "    <tr>\n",
       "      <th>22947</th>\n",
       "      <td>01/05/2016</td>\n",
       "      <td>30.6132</td>\n",
       "      <td>132.7337</td>\n",
       "      <td>Earthquake</td>\n",
       "      <td>4.71</td>\n",
       "      <td>5.8</td>\n",
       "      <td>MWW</td>\n",
       "      <td>US10004BEN</td>\n",
       "      <td>2016.0</td>\n",
       "    </tr>\n",
       "  </tbody>\n",
       "</table>\n",
       "</div>"
      ],
      "text/plain": [
       "             Date  Latitude  Longitude        Type   Depth  Magnitude  \\\n",
       "22943  01/01/2016  -50.5575   139.4489  Earthquake   10.00        6.3   \n",
       "22944  01/01/2016  -28.6278  -177.2810  Earthquake   34.00        5.8   \n",
       "22945  01/02/2016   44.8069   129.9406  Earthquake  585.47        5.8   \n",
       "22946  01/03/2016   24.8036    93.6505  Earthquake   55.00        6.7   \n",
       "22947  01/05/2016   30.6132   132.7337  Earthquake    4.71        5.8   \n",
       "\n",
       "      Magnitude Type          ID    Year  \n",
       "22943            MWW  US10004ANT  2016.0  \n",
       "22944            MWW  US10004AQY  2016.0  \n",
       "22945            MWW  US10004ATB  2016.0  \n",
       "22946            MWW  US10004B2N  2016.0  \n",
       "22947            MWW  US10004BEN  2016.0  "
      ]
     },
     "execution_count": 7,
     "metadata": {},
     "output_type": "execute_result"
    }
   ],
   "source": [
    "df_quakes_2016 = df_quakes[df_quakes['Year'] == 2016]\n",
    "df_quakes_2016.head()"
   ]
  },
  {
   "cell_type": "code",
   "execution_count": 8,
   "id": "8cb2a53b",
   "metadata": {},
   "outputs": [
    {
     "data": {
      "text/html": [
       "<style>\n",
       "        .bk-notebook-logo {\n",
       "            display: block;\n",
       "            width: 20px;\n",
       "            height: 20px;\n",
       "            background-image: url(data:image/png;base64,iVBORw0KGgoAAAANSUhEUgAAABQAAAAUCAYAAACNiR0NAAAABHNCSVQICAgIfAhkiAAAAAlwSFlzAAALEgAACxIB0t1+/AAAABx0RVh0U29mdHdhcmUAQWRvYmUgRmlyZXdvcmtzIENTNui8sowAAAOkSURBVDiNjZRtaJVlGMd/1/08zzln5zjP1LWcU9N0NkN8m2CYjpgQYQXqSs0I84OLIC0hkEKoPtiH3gmKoiJDU7QpLgoLjLIQCpEsNJ1vqUOdO7ppbuec5+V+rj4ctwzd8IIbbi6u+8f1539dt3A78eXC7QizUF7gyV1fD1Yqg4JWz84yffhm0qkFqBogB9rM8tZdtwVsPUhWhGcFJngGeWrPzHm5oaMmkfEg1usvLFyc8jLRqDOMru7AyC8saQr7GG7f5fvDeH7Ej8CM66nIF+8yngt6HWaKh7k49Soy9nXurCi1o3qUbS3zWfrYeQDTB/Qj6kX6Ybhw4B+bOYoLKCC9H3Nu/leUTZ1JdRWkkn2ldcCamzrcf47KKXdAJllSlxAOkRgyHsGC/zRday5Qld9DyoM4/q/rUoy/CXh3jzOu3bHUVZeU+DEn8FInkPBFlu3+nW3Nw0mk6vCDiWg8CeJaxEwuHS3+z5RgY+YBR6V1Z1nxSOfoaPa4LASWxxdNp+VWTk7+4vzaou8v8PN+xo+KY2xsw6une2frhw05CTYOmQvsEhjhWjn0bmXPjpE1+kplmmkP3suftwTubK9Vq22qKmrBhpY4jvd5afdRA3wGjFAgcnTK2s4hY0/GPNIb0nErGMCRxWOOX64Z8RAC4oCXdklmEvcL8o0BfkNK4lUg9HTl+oPlQxdNo3Mg4Nv175e/1LDGzZen30MEjRUtmXSfiTVu1kK8W4txyV6BMKlbgk3lMwYCiusNy9fVfvvwMxv8Ynl6vxoByANLTWplvuj/nF9m2+PDtt1eiHPBr1oIfhCChQMBw6Aw0UulqTKZdfVvfG7VcfIqLG9bcldL/+pdWTLxLUy8Qq38heUIjh4XlzZxzQm19lLFlr8vdQ97rjZVOLf8nclzckbcD4wxXMidpX30sFd37Fv/GtwwhzhxGVAprjbg0gCAEeIgwCZyTV2Z1REEW8O4py0wsjeloKoMr6iCY6dP92H6Vw/oTyICIthibxjm/DfN9lVz8IqtqKYLUXfoKVMVQVVJOElGjrnnUt9T9wbgp8AyYKaGlqingHZU/uG2NTZSVqwHQTWkx9hxjkpWDaCg6Ckj5qebgBVbT3V3NNXMSiWSDdGV3hrtzla7J+duwPOToIg42ChPQOQjspnSlp1V+Gjdged7+8UN5CRAV7a5EdFNwCjEaBR27b3W890TE7g24NAP/mMDXRWrGoFPQI9ls/MWO2dWFAar/xcOIImbbpA3zgAAAABJRU5ErkJggg==);\n",
       "        }\n",
       "    </style>\n",
       "    <div>\n",
       "        <a href=\"https://bokeh.org\" target=\"_blank\" class=\"bk-notebook-logo\"></a>\n",
       "        <span id=\"c6e5fc5f-45da-4fea-a8f4-7ecbb5dc483d\">Loading BokehJS ...</span>\n",
       "    </div>\n"
      ]
     },
     "metadata": {},
     "output_type": "display_data"
    },
    {
     "data": {
      "application/javascript": [
       "(function(root) {\n",
       "  function now() {\n",
       "    return new Date();\n",
       "  }\n",
       "\n",
       "  const force = true;\n",
       "\n",
       "  if (typeof root._bokeh_onload_callbacks === \"undefined\" || force === true) {\n",
       "    root._bokeh_onload_callbacks = [];\n",
       "    root._bokeh_is_loading = undefined;\n",
       "  }\n",
       "\n",
       "const JS_MIME_TYPE = 'application/javascript';\n",
       "  const HTML_MIME_TYPE = 'text/html';\n",
       "  const EXEC_MIME_TYPE = 'application/vnd.bokehjs_exec.v0+json';\n",
       "  const CLASS_NAME = 'output_bokeh rendered_html';\n",
       "\n",
       "  /**\n",
       "   * Render data to the DOM node\n",
       "   */\n",
       "  function render(props, node) {\n",
       "    const script = document.createElement(\"script\");\n",
       "    node.appendChild(script);\n",
       "  }\n",
       "\n",
       "  /**\n",
       "   * Handle when an output is cleared or removed\n",
       "   */\n",
       "  function handleClearOutput(event, handle) {\n",
       "    function drop(id) {\n",
       "      const view = Bokeh.index.get_by_id(id)\n",
       "      if (view != null) {\n",
       "        view.model.document.clear()\n",
       "        Bokeh.index.delete(view)\n",
       "      }\n",
       "    }\n",
       "\n",
       "    const cell = handle.cell;\n",
       "\n",
       "    const id = cell.output_area._bokeh_element_id;\n",
       "    const server_id = cell.output_area._bokeh_server_id;\n",
       "\n",
       "    // Clean up Bokeh references\n",
       "    if (id != null) {\n",
       "      drop(id)\n",
       "    }\n",
       "\n",
       "    if (server_id !== undefined) {\n",
       "      // Clean up Bokeh references\n",
       "      const cmd_clean = \"from bokeh.io.state import curstate; print(curstate().uuid_to_server['\" + server_id + \"'].get_sessions()[0].document.roots[0]._id)\";\n",
       "      cell.notebook.kernel.execute(cmd_clean, {\n",
       "        iopub: {\n",
       "          output: function(msg) {\n",
       "            const id = msg.content.text.trim()\n",
       "            drop(id)\n",
       "          }\n",
       "        }\n",
       "      });\n",
       "      // Destroy server and session\n",
       "      const cmd_destroy = \"import bokeh.io.notebook as ion; ion.destroy_server('\" + server_id + \"')\";\n",
       "      cell.notebook.kernel.execute(cmd_destroy);\n",
       "    }\n",
       "  }\n",
       "\n",
       "  /**\n",
       "   * Handle when a new output is added\n",
       "   */\n",
       "  function handleAddOutput(event, handle) {\n",
       "    const output_area = handle.output_area;\n",
       "    const output = handle.output;\n",
       "\n",
       "    // limit handleAddOutput to display_data with EXEC_MIME_TYPE content only\n",
       "    if ((output.output_type != \"display_data\") || (!Object.prototype.hasOwnProperty.call(output.data, EXEC_MIME_TYPE))) {\n",
       "      return\n",
       "    }\n",
       "\n",
       "    const toinsert = output_area.element.find(\".\" + CLASS_NAME.split(' ')[0]);\n",
       "\n",
       "    if (output.metadata[EXEC_MIME_TYPE][\"id\"] !== undefined) {\n",
       "      toinsert[toinsert.length - 1].firstChild.textContent = output.data[JS_MIME_TYPE];\n",
       "      // store reference to embed id on output_area\n",
       "      output_area._bokeh_element_id = output.metadata[EXEC_MIME_TYPE][\"id\"];\n",
       "    }\n",
       "    if (output.metadata[EXEC_MIME_TYPE][\"server_id\"] !== undefined) {\n",
       "      const bk_div = document.createElement(\"div\");\n",
       "      bk_div.innerHTML = output.data[HTML_MIME_TYPE];\n",
       "      const script_attrs = bk_div.children[0].attributes;\n",
       "      for (let i = 0; i < script_attrs.length; i++) {\n",
       "        toinsert[toinsert.length - 1].firstChild.setAttribute(script_attrs[i].name, script_attrs[i].value);\n",
       "        toinsert[toinsert.length - 1].firstChild.textContent = bk_div.children[0].textContent\n",
       "      }\n",
       "      // store reference to server id on output_area\n",
       "      output_area._bokeh_server_id = output.metadata[EXEC_MIME_TYPE][\"server_id\"];\n",
       "    }\n",
       "  }\n",
       "\n",
       "  function register_renderer(events, OutputArea) {\n",
       "\n",
       "    function append_mime(data, metadata, element) {\n",
       "      // create a DOM node to render to\n",
       "      const toinsert = this.create_output_subarea(\n",
       "        metadata,\n",
       "        CLASS_NAME,\n",
       "        EXEC_MIME_TYPE\n",
       "      );\n",
       "      this.keyboard_manager.register_events(toinsert);\n",
       "      // Render to node\n",
       "      const props = {data: data, metadata: metadata[EXEC_MIME_TYPE]};\n",
       "      render(props, toinsert[toinsert.length - 1]);\n",
       "      element.append(toinsert);\n",
       "      return toinsert\n",
       "    }\n",
       "\n",
       "    /* Handle when an output is cleared or removed */\n",
       "    events.on('clear_output.CodeCell', handleClearOutput);\n",
       "    events.on('delete.Cell', handleClearOutput);\n",
       "\n",
       "    /* Handle when a new output is added */\n",
       "    events.on('output_added.OutputArea', handleAddOutput);\n",
       "\n",
       "    /**\n",
       "     * Register the mime type and append_mime function with output_area\n",
       "     */\n",
       "    OutputArea.prototype.register_mime_type(EXEC_MIME_TYPE, append_mime, {\n",
       "      /* Is output safe? */\n",
       "      safe: true,\n",
       "      /* Index of renderer in `output_area.display_order` */\n",
       "      index: 0\n",
       "    });\n",
       "  }\n",
       "\n",
       "  // register the mime type if in Jupyter Notebook environment and previously unregistered\n",
       "  if (root.Jupyter !== undefined) {\n",
       "    const events = require('base/js/events');\n",
       "    const OutputArea = require('notebook/js/outputarea').OutputArea;\n",
       "\n",
       "    if (OutputArea.prototype.mime_types().indexOf(EXEC_MIME_TYPE) == -1) {\n",
       "      register_renderer(events, OutputArea);\n",
       "    }\n",
       "  }\n",
       "  if (typeof (root._bokeh_timeout) === \"undefined\" || force === true) {\n",
       "    root._bokeh_timeout = Date.now() + 5000;\n",
       "    root._bokeh_failed_load = false;\n",
       "  }\n",
       "\n",
       "  const NB_LOAD_WARNING = {'data': {'text/html':\n",
       "     \"<div style='background-color: #fdd'>\\n\"+\n",
       "     \"<p>\\n\"+\n",
       "     \"BokehJS does not appear to have successfully loaded. If loading BokehJS from CDN, this \\n\"+\n",
       "     \"may be due to a slow or bad network connection. Possible fixes:\\n\"+\n",
       "     \"</p>\\n\"+\n",
       "     \"<ul>\\n\"+\n",
       "     \"<li>re-rerun `output_notebook()` to attempt to load from CDN again, or</li>\\n\"+\n",
       "     \"<li>use INLINE resources instead, as so:</li>\\n\"+\n",
       "     \"</ul>\\n\"+\n",
       "     \"<code>\\n\"+\n",
       "     \"from bokeh.resources import INLINE\\n\"+\n",
       "     \"output_notebook(resources=INLINE)\\n\"+\n",
       "     \"</code>\\n\"+\n",
       "     \"</div>\"}};\n",
       "\n",
       "  function display_loaded() {\n",
       "    const el = document.getElementById(\"c6e5fc5f-45da-4fea-a8f4-7ecbb5dc483d\");\n",
       "    if (el != null) {\n",
       "      el.textContent = \"BokehJS is loading...\";\n",
       "    }\n",
       "    if (root.Bokeh !== undefined) {\n",
       "      if (el != null) {\n",
       "        el.textContent = \"BokehJS \" + root.Bokeh.version + \" successfully loaded.\";\n",
       "      }\n",
       "    } else if (Date.now() < root._bokeh_timeout) {\n",
       "      setTimeout(display_loaded, 100)\n",
       "    }\n",
       "  }\n",
       "\n",
       "  function run_callbacks() {\n",
       "    try {\n",
       "      root._bokeh_onload_callbacks.forEach(function(callback) {\n",
       "        if (callback != null)\n",
       "          callback();\n",
       "      });\n",
       "    } finally {\n",
       "      delete root._bokeh_onload_callbacks\n",
       "    }\n",
       "    console.debug(\"Bokeh: all callbacks have finished\");\n",
       "  }\n",
       "\n",
       "  function load_libs(css_urls, js_urls, callback) {\n",
       "    if (css_urls == null) css_urls = [];\n",
       "    if (js_urls == null) js_urls = [];\n",
       "\n",
       "    root._bokeh_onload_callbacks.push(callback);\n",
       "    if (root._bokeh_is_loading > 0) {\n",
       "      console.debug(\"Bokeh: BokehJS is being loaded, scheduling callback at\", now());\n",
       "      return null;\n",
       "    }\n",
       "    if (js_urls == null || js_urls.length === 0) {\n",
       "      run_callbacks();\n",
       "      return null;\n",
       "    }\n",
       "    console.debug(\"Bokeh: BokehJS not loaded, scheduling load and callback at\", now());\n",
       "    root._bokeh_is_loading = css_urls.length + js_urls.length;\n",
       "\n",
       "    function on_load() {\n",
       "      root._bokeh_is_loading--;\n",
       "      if (root._bokeh_is_loading === 0) {\n",
       "        console.debug(\"Bokeh: all BokehJS libraries/stylesheets loaded\");\n",
       "        run_callbacks()\n",
       "      }\n",
       "    }\n",
       "\n",
       "    function on_error(url) {\n",
       "      console.error(\"failed to load \" + url);\n",
       "    }\n",
       "\n",
       "    for (let i = 0; i < css_urls.length; i++) {\n",
       "      const url = css_urls[i];\n",
       "      const element = document.createElement(\"link\");\n",
       "      element.onload = on_load;\n",
       "      element.onerror = on_error.bind(null, url);\n",
       "      element.rel = \"stylesheet\";\n",
       "      element.type = \"text/css\";\n",
       "      element.href = url;\n",
       "      console.debug(\"Bokeh: injecting link tag for BokehJS stylesheet: \", url);\n",
       "      document.body.appendChild(element);\n",
       "    }\n",
       "\n",
       "    for (let i = 0; i < js_urls.length; i++) {\n",
       "      const url = js_urls[i];\n",
       "      const element = document.createElement('script');\n",
       "      element.onload = on_load;\n",
       "      element.onerror = on_error.bind(null, url);\n",
       "      element.async = false;\n",
       "      element.src = url;\n",
       "      console.debug(\"Bokeh: injecting script tag for BokehJS library: \", url);\n",
       "      document.head.appendChild(element);\n",
       "    }\n",
       "  };\n",
       "\n",
       "  function inject_raw_css(css) {\n",
       "    const element = document.createElement(\"style\");\n",
       "    element.appendChild(document.createTextNode(css));\n",
       "    document.body.appendChild(element);\n",
       "  }\n",
       "\n",
       "  const js_urls = [\"https://cdn.bokeh.org/bokeh/release/bokeh-3.3.0.min.js\", \"https://cdn.bokeh.org/bokeh/release/bokeh-gl-3.3.0.min.js\", \"https://cdn.bokeh.org/bokeh/release/bokeh-widgets-3.3.0.min.js\", \"https://cdn.bokeh.org/bokeh/release/bokeh-tables-3.3.0.min.js\", \"https://cdn.bokeh.org/bokeh/release/bokeh-mathjax-3.3.0.min.js\"];\n",
       "  const css_urls = [];\n",
       "\n",
       "  const inline_js = [    function(Bokeh) {\n",
       "      Bokeh.set_log_level(\"info\");\n",
       "    },\n",
       "function(Bokeh) {\n",
       "    }\n",
       "  ];\n",
       "\n",
       "  function run_inline_js() {\n",
       "    if (root.Bokeh !== undefined || force === true) {\n",
       "          for (let i = 0; i < inline_js.length; i++) {\n",
       "      inline_js[i].call(root, root.Bokeh);\n",
       "    }\n",
       "if (force === true) {\n",
       "        display_loaded();\n",
       "      }} else if (Date.now() < root._bokeh_timeout) {\n",
       "      setTimeout(run_inline_js, 100);\n",
       "    } else if (!root._bokeh_failed_load) {\n",
       "      console.log(\"Bokeh: BokehJS failed to load within specified timeout.\");\n",
       "      root._bokeh_failed_load = true;\n",
       "    } else if (force !== true) {\n",
       "      const cell = $(document.getElementById(\"c6e5fc5f-45da-4fea-a8f4-7ecbb5dc483d\")).parents('.cell').data().cell;\n",
       "      cell.output_area.append_execute_result(NB_LOAD_WARNING)\n",
       "    }\n",
       "  }\n",
       "\n",
       "  if (root._bokeh_is_loading === 0) {\n",
       "    console.debug(\"Bokeh: BokehJS loaded, going straight to plotting\");\n",
       "    run_inline_js();\n",
       "  } else {\n",
       "    load_libs(css_urls, js_urls, function() {\n",
       "      console.debug(\"Bokeh: BokehJS plotting callback run at\", now());\n",
       "      run_inline_js();\n",
       "    });\n",
       "  }\n",
       "}(window));"
      ],
      "application/vnd.bokehjs_load.v0+json": "(function(root) {\n  function now() {\n    return new Date();\n  }\n\n  const force = true;\n\n  if (typeof root._bokeh_onload_callbacks === \"undefined\" || force === true) {\n    root._bokeh_onload_callbacks = [];\n    root._bokeh_is_loading = undefined;\n  }\n\n\n  if (typeof (root._bokeh_timeout) === \"undefined\" || force === true) {\n    root._bokeh_timeout = Date.now() + 5000;\n    root._bokeh_failed_load = false;\n  }\n\n  const NB_LOAD_WARNING = {'data': {'text/html':\n     \"<div style='background-color: #fdd'>\\n\"+\n     \"<p>\\n\"+\n     \"BokehJS does not appear to have successfully loaded. If loading BokehJS from CDN, this \\n\"+\n     \"may be due to a slow or bad network connection. Possible fixes:\\n\"+\n     \"</p>\\n\"+\n     \"<ul>\\n\"+\n     \"<li>re-rerun `output_notebook()` to attempt to load from CDN again, or</li>\\n\"+\n     \"<li>use INLINE resources instead, as so:</li>\\n\"+\n     \"</ul>\\n\"+\n     \"<code>\\n\"+\n     \"from bokeh.resources import INLINE\\n\"+\n     \"output_notebook(resources=INLINE)\\n\"+\n     \"</code>\\n\"+\n     \"</div>\"}};\n\n  function display_loaded() {\n    const el = document.getElementById(\"c6e5fc5f-45da-4fea-a8f4-7ecbb5dc483d\");\n    if (el != null) {\n      el.textContent = \"BokehJS is loading...\";\n    }\n    if (root.Bokeh !== undefined) {\n      if (el != null) {\n        el.textContent = \"BokehJS \" + root.Bokeh.version + \" successfully loaded.\";\n      }\n    } else if (Date.now() < root._bokeh_timeout) {\n      setTimeout(display_loaded, 100)\n    }\n  }\n\n  function run_callbacks() {\n    try {\n      root._bokeh_onload_callbacks.forEach(function(callback) {\n        if (callback != null)\n          callback();\n      });\n    } finally {\n      delete root._bokeh_onload_callbacks\n    }\n    console.debug(\"Bokeh: all callbacks have finished\");\n  }\n\n  function load_libs(css_urls, js_urls, callback) {\n    if (css_urls == null) css_urls = [];\n    if (js_urls == null) js_urls = [];\n\n    root._bokeh_onload_callbacks.push(callback);\n    if (root._bokeh_is_loading > 0) {\n      console.debug(\"Bokeh: BokehJS is being loaded, scheduling callback at\", now());\n      return null;\n    }\n    if (js_urls == null || js_urls.length === 0) {\n      run_callbacks();\n      return null;\n    }\n    console.debug(\"Bokeh: BokehJS not loaded, scheduling load and callback at\", now());\n    root._bokeh_is_loading = css_urls.length + js_urls.length;\n\n    function on_load() {\n      root._bokeh_is_loading--;\n      if (root._bokeh_is_loading === 0) {\n        console.debug(\"Bokeh: all BokehJS libraries/stylesheets loaded\");\n        run_callbacks()\n      }\n    }\n\n    function on_error(url) {\n      console.error(\"failed to load \" + url);\n    }\n\n    for (let i = 0; i < css_urls.length; i++) {\n      const url = css_urls[i];\n      const element = document.createElement(\"link\");\n      element.onload = on_load;\n      element.onerror = on_error.bind(null, url);\n      element.rel = \"stylesheet\";\n      element.type = \"text/css\";\n      element.href = url;\n      console.debug(\"Bokeh: injecting link tag for BokehJS stylesheet: \", url);\n      document.body.appendChild(element);\n    }\n\n    for (let i = 0; i < js_urls.length; i++) {\n      const url = js_urls[i];\n      const element = document.createElement('script');\n      element.onload = on_load;\n      element.onerror = on_error.bind(null, url);\n      element.async = false;\n      element.src = url;\n      console.debug(\"Bokeh: injecting script tag for BokehJS library: \", url);\n      document.head.appendChild(element);\n    }\n  };\n\n  function inject_raw_css(css) {\n    const element = document.createElement(\"style\");\n    element.appendChild(document.createTextNode(css));\n    document.body.appendChild(element);\n  }\n\n  const js_urls = [\"https://cdn.bokeh.org/bokeh/release/bokeh-3.3.0.min.js\", \"https://cdn.bokeh.org/bokeh/release/bokeh-gl-3.3.0.min.js\", \"https://cdn.bokeh.org/bokeh/release/bokeh-widgets-3.3.0.min.js\", \"https://cdn.bokeh.org/bokeh/release/bokeh-tables-3.3.0.min.js\", \"https://cdn.bokeh.org/bokeh/release/bokeh-mathjax-3.3.0.min.js\"];\n  const css_urls = [];\n\n  const inline_js = [    function(Bokeh) {\n      Bokeh.set_log_level(\"info\");\n    },\nfunction(Bokeh) {\n    }\n  ];\n\n  function run_inline_js() {\n    if (root.Bokeh !== undefined || force === true) {\n          for (let i = 0; i < inline_js.length; i++) {\n      inline_js[i].call(root, root.Bokeh);\n    }\nif (force === true) {\n        display_loaded();\n      }} else if (Date.now() < root._bokeh_timeout) {\n      setTimeout(run_inline_js, 100);\n    } else if (!root._bokeh_failed_load) {\n      console.log(\"Bokeh: BokehJS failed to load within specified timeout.\");\n      root._bokeh_failed_load = true;\n    } else if (force !== true) {\n      const cell = $(document.getElementById(\"c6e5fc5f-45da-4fea-a8f4-7ecbb5dc483d\")).parents('.cell').data().cell;\n      cell.output_area.append_execute_result(NB_LOAD_WARNING)\n    }\n  }\n\n  if (root._bokeh_is_loading === 0) {\n    console.debug(\"Bokeh: BokehJS loaded, going straight to plotting\");\n    run_inline_js();\n  } else {\n    load_libs(css_urls, js_urls, function() {\n      console.debug(\"Bokeh: BokehJS plotting callback run at\", now());\n      run_inline_js();\n    });\n  }\n}(window));"
     },
     "metadata": {},
     "output_type": "display_data"
    }
   ],
   "source": [
    "# Show plots embedded in jupyter notebook \n",
    "output_notebook()"
   ]
  },
  {
   "cell_type": "code",
   "execution_count": 9,
   "id": "f156a455",
   "metadata": {},
   "outputs": [],
   "source": [
    "# Create custom style function to style our plots \n",
    "\n",
    "def style(p):\n",
    "    #Title \n",
    "    p.title.align = 'center'\n",
    "    p.title.text_font_size = '20pt'\n",
    "    p.title.text_font = 'serif'\n",
    "    \n",
    "    # Add titles \n",
    "    p.xaxis.axis_label_text_font_size = '14pt'\n",
    "    p.xaxis.axis_label_text_font_style = 'bold'\n",
    "    p.yaxis.axis_label_text_font_size = '14pt'\n",
    "    p.yaxis.axis_label_text_font_style = 'bold'\n",
    "    \n",
    "    # Tick labels \n",
    "    p.xaxis.major_label_text_font_size = '12pt'\n",
    "    p.yaxis.major_label_text_font_size = '12pt'\n",
    "    \n",
    "    # Plot the legend in the top left corner \n",
    "    p.legend.location = 'top_left'\n",
    "    \n",
    "    return p\n",
    "\n",
    "    "
   ]
  },
  {
   "cell_type": "code",
   "execution_count": 72,
   "id": "376f7242",
   "metadata": {},
   "outputs": [],
   "source": [
    "# Create the Geo Map plot \n",
    "def plotMap():\n",
    "    lat = df_quakes_2016['Latitude'].values.tolist()\n",
    "    lon = df_quakes_2016['Longitude'].values.tolist()\n",
    "    \n",
    "    \n",
    "    pred_lat = df_quake_pred['Latitude'].values.tolist()\n",
    "    pred_lon = df_quake_pred['Longitude'].values.tolist()\n",
    "    \n",
    "    lst_lat = []\n",
    "    lst_lon = []\n",
    "    lst_pred_lat = []\n",
    "    lst_pred_lon = []\n",
    "    \n",
    "    i = 0\n",
    "    j = 0\n",
    "    \n",
    "    # Convert Lat and Long values into merc_projection format \n",
    "# Convert Lat and Long values into merc_projection format\n",
    "    for i in range(len(lon)):\n",
    "        r_major = 6378137.000\n",
    "        x = r_major * math.radians(lon[i])\n",
    "        scale = x/lon[i]\n",
    "        y = 180.0/math.pi * math.log(math.tan(math.pi/4.0 +\n",
    "            lat[i] * (math.pi/180.0)/2.0)) * scale\n",
    "        \n",
    "        lst_lon.append(x)\n",
    "        lst_lat.append(y)\n",
    "        i += 1\n",
    "        \n",
    "    # Convert predicted lat and long values into merc_projection format\n",
    "    for j in range(len(pred_lon)):\n",
    "        r_major = 6378137.000\n",
    "        x = r_major * math.radians(pred_lon[j])\n",
    "        scale = x/pred_lon[j]\n",
    "        y = 180.0/math.pi * math.log(math.tan(math.pi/4.0 +\n",
    "            pred_lat[j] * (math.pi/180.0)/2.0)) * scale\n",
    "        \n",
    "        lst_pred_lon.append(x)\n",
    "        lst_pred_lat.append(y)\n",
    "        j += 1\n",
    "        \n",
    "    \n",
    "    df_quakes_2016['coords_x'] = lst_lat\n",
    "    df_quakes_2016['coords_y'] = lst_lon\n",
    "    df_quake_pred['coords_x'] = lst_pred_lat\n",
    "    df_quake_pred['coords_y'] = lst_pred_lon\n",
    "    \n",
    "    # Scale the circles \n",
    "    df_quakes_2016['Mag_Size'] = df_quakes_2016['Magnitude'] * 4\n",
    "    df_quake_pred['Mag_Size'] = df_quake_pred['Pred_Magnitude'] * 4\n",
    "    \n",
    "    # Create datasources for our ColumnDataSource object \n",
    "    lats = df_quakes_2016['coords_x'].tolist()\n",
    "    longs = df_quakes_2016['coords_y'].tolist()\n",
    "    mags = df_quakes_2016['Magnitude'].tolist()\n",
    "    years = df_quakes_2016['Year'].tolist()\n",
    "    mag_size = df_quakes_2016['Mag_Size'].tolist()\n",
    "    \n",
    "    pred_lats = df_quake_pred['coords_x'].tolist()\n",
    "    pred_longs = df_quake_pred['coords_y'].tolist()\n",
    "    pred_mags = df_quake_pred['Pred_Magnitude'].tolist()\n",
    "    pred_year = df_quake_pred['Year'].tolist()\n",
    "    pred_mag_size = df_quake_pred['Mag_Size'].tolist()\n",
    "    \n",
    "    \n",
    "    # Create column datasource \n",
    "    \n",
    "    cds = ColumnDataSource(\n",
    "    data = dict(\n",
    "        lat = lats,\n",
    "        lon = longs,\n",
    "        mag = mags,\n",
    "        year = years,\n",
    "        mag_s = mag_size\n",
    "    )\n",
    "    )\n",
    "    \n",
    "    pred_cds = ColumnDataSource(\n",
    "    data = dict(\n",
    "        pred_lat = pred_lats,\n",
    "        pred_lon = pred_longs,\n",
    "        pred_mag = pred_mags,\n",
    "        year = pred_year,\n",
    "        pred_mag_s = pred_mag_size\n",
    "    )\n",
    "    )\n",
    "    \n",
    "    # Tooltips \n",
    "    TOOLTIPS = [\n",
    "        (\"Year\", \"@year\"),\n",
    "        (\"Magnitude\", \"@mag\"),\n",
    "        (\"Predicted Magnitude\", \" @pred_mag\")\n",
    "    ]\n",
    "    # Create figure \n",
    "    \n",
    "    # Create figure\n",
    "    p = figure(title='Earthquake Map',\n",
    "              width=2300, height=850,\n",
    "              x_range=(-2000000, 6000000),\n",
    "              y_range=(-1000000, 7000000),\n",
    "              tooltips=TOOLTIPS)\n",
    "    p.circle(x='lon',y='lat', size='mag_s', fill_color='#cc0000', fill_alpha = 0.7,\n",
    "            source = cds, legend_label ='Quakes 2016')\n",
    "    # Add circles for our predicted earthquakes \n",
    "    \n",
    "    p.circle(x = 'pred_lon', y ='pred_lat', size='pred_mag_s', fill_color='#ccff33', fill_alpha = 7.0,\n",
    "            source = pred_cds, legend_label ='Quakes 2017')\n",
    "    \n",
    "    p.add_tile(CARTODBPOSITRON)\n",
    "    \n",
    "    \n",
    "    # Style the map plot\n",
    "    # Title\n",
    "    p.title.align='center'\n",
    "    p.title.text_font_size='20pt'\n",
    "    p.title.text_font='serif'\n",
    "    \n",
    "    # Legend\n",
    "    p.legend.location='bottom_right'\n",
    "    p.legend.background_fill_color='black'\n",
    "    p.legend.background_fill_alpha=0.8\n",
    "    p.legend.click_policy='hide'\n",
    "    p.legend.label_text_color='white'\n",
    "    p.xaxis.visible=False\n",
    "    p.yaxis.visible=False\n",
    "    p.axis.axis_label=None\n",
    "    p.axis.visible=False\n",
    "    p.grid.grid_line_color=None\n",
    "    return p \n",
    "    "
   ]
  },
  {
   "cell_type": "code",
   "execution_count": 44,
   "id": "09c02c67",
   "metadata": {},
   "outputs": [],
   "source": [
    "# Create the bar chart \n",
    "def plotBar() :\n",
    "    # Load the datasource \n",
    "    cds = ColumnDataSource(data = dict(\n",
    "    yrs = df_quake_freq['Year'].values.tolist(),\n",
    "    numQuakes = df_quake_freq['Counts'].values.tolist()\n",
    "    ))\n",
    "    # Tooltip \n",
    "    TOOLTIPS = [\n",
    "        ('Year','@yrs'),\n",
    "        ('Number of earthquakes', '@numQuakes')\n",
    "    ]\n",
    "    # Create a figure \n",
    "    barChart = figure(title = 'Frequency of Earthquakes by Year',\n",
    "                     height = 400,\n",
    "                     width = 1150,\n",
    "                     x_axis_label = 'Year',\n",
    "                     y_axis_label = 'Number of Occurances',\n",
    "                     x_minor_ticks = 2,\n",
    "                     y_range = (0,df_quake_freq['Counts'].max()+100),\n",
    "                     toolbar_location = None,\n",
    "                      tooltips = TOOLTIPS\n",
    "                     )\n",
    "    # Create a vertical bar \n",
    "    barChart.vbar(x='yrs', bottom = 0, top = 'numQuakes',\n",
    "                 color = '#cc0000', width = 0.75,\n",
    "                 legend_label = 'Year', source = cds)\n",
    "    \n",
    "    #Style the bar chart \n",
    "    \n",
    "    barChart = style(barChart)\n",
    "    return barChart"
   ]
  },
  {
   "cell_type": "code",
   "execution_count": 43,
   "id": "af7c779b",
   "metadata": {},
   "outputs": [],
   "source": [
    "# Create a magnitude plot\n",
    "\n",
    "def plotMagnitude() :\n",
    "    #Load the datasource \n",
    "    cds = ColumnDataSource(data = dict(\n",
    "    yrs = sorted(df_quake_freq['Year'].values.tolist()),\n",
    "    avg_mag = df_quake_freq['Avg_Magnitude'].values.tolist(),\n",
    "    max_mag = df_quake_freq['Max_Magnitude'].values.tolist()\n",
    "    ))\n",
    "    TOOLTIPS = [\n",
    "        ('Year','@yrs'),\n",
    "        ('Average Magnitude', '@avg_mag'),\n",
    "        ('Maximum Magnitude', '@max_mag')\n",
    "    ]\n",
    "    \n",
    "    # Create a figure \n",
    "    mp = figure(title = 'Maximum and Average Magnitude by Year',\n",
    "    width = 1150, height = 400,\n",
    "    x_axis_label = 'Years',\n",
    "    y_axis_label = 'Magnitude',\n",
    "    x_minor_ticks = 2,\n",
    "    y_range = (5, df_quake_freq['Max_Magnitude'].max() + 1 ),\n",
    "    toolbar_location = None,\n",
    "    tooltips = TOOLTIPS\n",
    "    )\n",
    "    # Create the line for the Max Magnitude \n",
    "    # Max Magnitude\n",
    "    mp.line(x='yrs', y='max_mag', color='#cc0000', line_width=2, legend_label='Max Magnitude', source=cds)\n",
    "    mp.circle(x='yrs', y='max_mag', color='#cc0000', size=8, fill_color='#cc0000', source=cds)\n",
    "    \n",
    "    # Average Magnitude \n",
    "    mp.line(x='yrs', y='avg_mag', color='yellow', line_width=2, legend_label='Avg Magnitude', source=cds)\n",
    "    mp.circle(x='yrs', y='avg_mag', color='yellow', size=8, fill_color='yellow', source=cds)\n",
    "    mp = style(mp)\n",
    "    return mp "
   ]
  },
  {
   "cell_type": "code",
   "execution_count": 19,
   "id": "74b829a0",
   "metadata": {},
   "outputs": [
    {
     "data": {
      "text/html": [
       "<div>\n",
       "<style scoped>\n",
       "    .dataframe tbody tr th:only-of-type {\n",
       "        vertical-align: middle;\n",
       "    }\n",
       "\n",
       "    .dataframe tbody tr th {\n",
       "        vertical-align: top;\n",
       "    }\n",
       "\n",
       "    .dataframe thead th {\n",
       "        text-align: right;\n",
       "    }\n",
       "</style>\n",
       "<table border=\"1\" class=\"dataframe\">\n",
       "  <thead>\n",
       "    <tr style=\"text-align: right;\">\n",
       "      <th></th>\n",
       "      <th>Year</th>\n",
       "      <th>Counts</th>\n",
       "      <th>Avg_Magnitude</th>\n",
       "      <th>Max_Magnitude</th>\n",
       "    </tr>\n",
       "  </thead>\n",
       "  <tbody>\n",
       "    <tr>\n",
       "      <th>0</th>\n",
       "      <td>1990</td>\n",
       "      <td>196</td>\n",
       "      <td>5.858163</td>\n",
       "      <td>7.6</td>\n",
       "    </tr>\n",
       "    <tr>\n",
       "      <th>1</th>\n",
       "      <td>1975</td>\n",
       "      <td>150</td>\n",
       "      <td>5.848667</td>\n",
       "      <td>7.8</td>\n",
       "    </tr>\n",
       "    <tr>\n",
       "      <th>2</th>\n",
       "      <td>1977</td>\n",
       "      <td>148</td>\n",
       "      <td>5.757432</td>\n",
       "      <td>7.6</td>\n",
       "    </tr>\n",
       "    <tr>\n",
       "      <th>3</th>\n",
       "      <td>2003</td>\n",
       "      <td>187</td>\n",
       "      <td>5.850802</td>\n",
       "      <td>7.6</td>\n",
       "    </tr>\n",
       "    <tr>\n",
       "      <th>4</th>\n",
       "      <td>2007</td>\n",
       "      <td>211</td>\n",
       "      <td>5.890995</td>\n",
       "      <td>8.4</td>\n",
       "    </tr>\n",
       "  </tbody>\n",
       "</table>\n",
       "</div>"
      ],
      "text/plain": [
       "   Year  Counts  Avg_Magnitude  Max_Magnitude\n",
       "0  1990     196       5.858163            7.6\n",
       "1  1975     150       5.848667            7.8\n",
       "2  1977     148       5.757432            7.6\n",
       "3  2003     187       5.850802            7.6\n",
       "4  2007     211       5.890995            8.4"
      ]
     },
     "execution_count": 19,
     "metadata": {},
     "output_type": "execute_result"
    }
   ],
   "source": [
    "df_quake_freq.head()"
   ]
  },
  {
   "cell_type": "code",
   "execution_count": 31,
   "id": "1d530e08",
   "metadata": {},
   "outputs": [
    {
     "data": {
      "text/html": [
       "\n",
       "  <div id=\"eabd1a94-a53e-49fd-b49b-12154a760e87\" data-root-id=\"p1742\" style=\"display: contents;\"></div>\n"
      ]
     },
     "metadata": {},
     "output_type": "display_data"
    },
    {
     "data": {
      "application/javascript": [
       "(function(root) {\n",
       "  function embed_document(root) {\n",
       "  const docs_json = {\"9f371204-85d2-4c35-976f-7573809398f3\":{\"version\":\"3.3.0\",\"title\":\"Bokeh Application\",\"roots\":[{\"type\":\"object\",\"name\":\"Figure\",\"id\":\"p1742\",\"attributes\":{\"width\":1150,\"height\":400,\"x_range\":{\"type\":\"object\",\"name\":\"DataRange1d\",\"id\":\"p1744\"},\"y_range\":{\"type\":\"object\",\"name\":\"Range1d\",\"id\":\"p1752\",\"attributes\":{\"start\":5,\"end\":10.1}},\"x_scale\":{\"type\":\"object\",\"name\":\"LinearScale\",\"id\":\"p1753\"},\"y_scale\":{\"type\":\"object\",\"name\":\"LinearScale\",\"id\":\"p1754\"},\"title\":{\"type\":\"object\",\"name\":\"Title\",\"id\":\"p1745\",\"attributes\":{\"text\":\"Maximum and Average Magnitude by Year\",\"text_font\":\"serif\",\"text_font_size\":\"20pt\",\"align\":\"center\"}},\"renderers\":[{\"type\":\"object\",\"name\":\"GlyphRenderer\",\"id\":\"p1779\",\"attributes\":{\"data_source\":{\"type\":\"object\",\"name\":\"ColumnDataSource\",\"id\":\"p1739\",\"attributes\":{\"selected\":{\"type\":\"object\",\"name\":\"Selection\",\"id\":\"p1740\",\"attributes\":{\"indices\":[],\"line_indices\":[]}},\"selection_policy\":{\"type\":\"object\",\"name\":\"UnionRenderers\",\"id\":\"p1741\"},\"data\":{\"type\":\"map\",\"entries\":[[\"yrs\",[1965,1966,1967,1968,1969,1970,1971,1972,1973,1974,1975,1976,1977,1978,1979,1980,1981,1982,1983,1984,1985,1986,1987,1988,1989,1990,1991,1992,1993,1994,1995,1996,1997,1998,1999,2000,2001,2002,2003,2004,2005,2006,2007,2008,2009,2010,2011,2012,2013,2014,2015,2016]],[\"avg_mag\",[5.9,5.8,5.8,5.9,5.9,5.9,5.8,5.8,5.8,5.9,5.9,5.8,5.9,6.1,5.9,5.8,5.8,6.0,6.1,5.9,5.9,6.0,6.0,5.8,5.8,5.9,5.9,6.0,5.9,6.0,5.9,5.9,5.9,5.9,5.9,5.8,5.9,5.9,5.9,5.9,5.9,5.8,5.9,5.8,5.9,5.8,5.9,5.8,5.9,5.9,5.9,5.9]],[\"max_mag\",[7.6,7.8,7.6,7.6,8.4,7.6,7.5,8.0,7.7,8.0,7.8,7.8,8.3,7.6,8.2,7.4,7.9,7.8,7.7,7.5,7.1,7.2,7.5,7.1,7.4,7.9,7.5,8.7,8.0,7.4,8.6,7.6,7.8,7.8,8.0,7.5,7.6,8.0,7.8,7.4,7.6,7.6,7.9,7.7,7.8,8.0,9.1,7.5,7.9,7.4,7.9,7.8]]]}}},\"view\":{\"type\":\"object\",\"name\":\"CDSView\",\"id\":\"p1780\",\"attributes\":{\"filter\":{\"type\":\"object\",\"name\":\"AllIndices\",\"id\":\"p1781\"}}},\"glyph\":{\"type\":\"object\",\"name\":\"Line\",\"id\":\"p1776\",\"attributes\":{\"x\":{\"type\":\"field\",\"field\":\"yrs\"},\"y\":{\"type\":\"field\",\"field\":\"max_mag\"},\"line_color\":\"#cc0000\",\"line_width\":2}},\"nonselection_glyph\":{\"type\":\"object\",\"name\":\"Line\",\"id\":\"p1777\",\"attributes\":{\"x\":{\"type\":\"field\",\"field\":\"yrs\"},\"y\":{\"type\":\"field\",\"field\":\"max_mag\"},\"line_color\":\"#cc0000\",\"line_alpha\":0.1,\"line_width\":2}},\"muted_glyph\":{\"type\":\"object\",\"name\":\"Line\",\"id\":\"p1778\",\"attributes\":{\"x\":{\"type\":\"field\",\"field\":\"yrs\"},\"y\":{\"type\":\"field\",\"field\":\"max_mag\"},\"line_color\":\"#cc0000\",\"line_alpha\":0.2,\"line_width\":2}}}},{\"type\":\"object\",\"name\":\"GlyphRenderer\",\"id\":\"p1790\",\"attributes\":{\"data_source\":{\"id\":\"p1739\"},\"view\":{\"type\":\"object\",\"name\":\"CDSView\",\"id\":\"p1791\",\"attributes\":{\"filter\":{\"type\":\"object\",\"name\":\"AllIndices\",\"id\":\"p1792\"}}},\"glyph\":{\"type\":\"object\",\"name\":\"Circle\",\"id\":\"p1787\",\"attributes\":{\"x\":{\"type\":\"field\",\"field\":\"yrs\"},\"y\":{\"type\":\"field\",\"field\":\"max_mag\"},\"size\":{\"type\":\"value\",\"value\":8},\"line_color\":{\"type\":\"value\",\"value\":\"#cc0000\"},\"fill_color\":{\"type\":\"value\",\"value\":\"#cc0000\"},\"hatch_color\":{\"type\":\"value\",\"value\":\"#cc0000\"}}},\"nonselection_glyph\":{\"type\":\"object\",\"name\":\"Circle\",\"id\":\"p1788\",\"attributes\":{\"x\":{\"type\":\"field\",\"field\":\"yrs\"},\"y\":{\"type\":\"field\",\"field\":\"max_mag\"},\"size\":{\"type\":\"value\",\"value\":8},\"line_color\":{\"type\":\"value\",\"value\":\"#cc0000\"},\"line_alpha\":{\"type\":\"value\",\"value\":0.1},\"fill_color\":{\"type\":\"value\",\"value\":\"#cc0000\"},\"fill_alpha\":{\"type\":\"value\",\"value\":0.1},\"hatch_color\":{\"type\":\"value\",\"value\":\"#cc0000\"},\"hatch_alpha\":{\"type\":\"value\",\"value\":0.1}}},\"muted_glyph\":{\"type\":\"object\",\"name\":\"Circle\",\"id\":\"p1789\",\"attributes\":{\"x\":{\"type\":\"field\",\"field\":\"yrs\"},\"y\":{\"type\":\"field\",\"field\":\"max_mag\"},\"size\":{\"type\":\"value\",\"value\":8},\"line_color\":{\"type\":\"value\",\"value\":\"#cc0000\"},\"line_alpha\":{\"type\":\"value\",\"value\":0.2},\"fill_color\":{\"type\":\"value\",\"value\":\"#cc0000\"},\"fill_alpha\":{\"type\":\"value\",\"value\":0.2},\"hatch_color\":{\"type\":\"value\",\"value\":\"#cc0000\"},\"hatch_alpha\":{\"type\":\"value\",\"value\":0.2}}}}}],\"toolbar\":{\"type\":\"object\",\"name\":\"Toolbar\",\"id\":\"p1751\",\"attributes\":{\"tools\":[{\"type\":\"object\",\"name\":\"PanTool\",\"id\":\"p1765\"},{\"type\":\"object\",\"name\":\"WheelZoomTool\",\"id\":\"p1766\",\"attributes\":{\"renderers\":\"auto\"}},{\"type\":\"object\",\"name\":\"BoxZoomTool\",\"id\":\"p1767\",\"attributes\":{\"overlay\":{\"type\":\"object\",\"name\":\"BoxAnnotation\",\"id\":\"p1768\",\"attributes\":{\"syncable\":false,\"level\":\"overlay\",\"visible\":false,\"left_units\":\"canvas\",\"right_units\":\"canvas\",\"top_units\":\"canvas\",\"bottom_units\":\"canvas\",\"line_color\":\"black\",\"line_alpha\":1.0,\"line_width\":2,\"line_dash\":[4,4],\"fill_color\":\"lightgrey\",\"fill_alpha\":0.5}}}},{\"type\":\"object\",\"name\":\"SaveTool\",\"id\":\"p1769\"},{\"type\":\"object\",\"name\":\"ResetTool\",\"id\":\"p1770\"},{\"type\":\"object\",\"name\":\"HelpTool\",\"id\":\"p1771\"},{\"type\":\"object\",\"name\":\"HoverTool\",\"id\":\"p1772\",\"attributes\":{\"renderers\":\"auto\",\"tooltips\":[[\"Year\",\" @yrs\"],[\"Average Magnitude\",\" @avg_mag\"],[\"Maximum Magnitude\",\" @max_mag\"]]}}]}},\"toolbar_location\":null,\"left\":[{\"type\":\"object\",\"name\":\"LinearAxis\",\"id\":\"p1760\",\"attributes\":{\"ticker\":{\"type\":\"object\",\"name\":\"BasicTicker\",\"id\":\"p1761\",\"attributes\":{\"mantissas\":[1,2,5]}},\"formatter\":{\"type\":\"object\",\"name\":\"BasicTickFormatter\",\"id\":\"p1762\"},\"axis_label\":\"Magnitude\",\"axis_label_text_font_size\":\"14pt\",\"axis_label_text_font_style\":\"bold\",\"major_label_policy\":{\"type\":\"object\",\"name\":\"AllLabels\",\"id\":\"p1763\"},\"major_label_text_font_size\":\"12pt\"}}],\"below\":[{\"type\":\"object\",\"name\":\"LinearAxis\",\"id\":\"p1755\",\"attributes\":{\"ticker\":{\"type\":\"object\",\"name\":\"BasicTicker\",\"id\":\"p1756\",\"attributes\":{\"num_minor_ticks\":2,\"mantissas\":[1,2,5]}},\"formatter\":{\"type\":\"object\",\"name\":\"BasicTickFormatter\",\"id\":\"p1757\"},\"axis_label\":\"Years\",\"axis_label_text_font_size\":\"14pt\",\"axis_label_text_font_style\":\"bold\",\"major_label_policy\":{\"type\":\"object\",\"name\":\"AllLabels\",\"id\":\"p1758\"},\"major_label_text_font_size\":\"12pt\"}}],\"center\":[{\"type\":\"object\",\"name\":\"Grid\",\"id\":\"p1759\",\"attributes\":{\"axis\":{\"id\":\"p1755\"}}},{\"type\":\"object\",\"name\":\"Grid\",\"id\":\"p1764\",\"attributes\":{\"dimension\":1,\"axis\":{\"id\":\"p1760\"}}},{\"type\":\"object\",\"name\":\"Legend\",\"id\":\"p1782\",\"attributes\":{\"location\":\"top_left\",\"items\":[{\"type\":\"object\",\"name\":\"LegendItem\",\"id\":\"p1783\",\"attributes\":{\"label\":{\"type\":\"value\",\"value\":\"Max Magnitude\"},\"renderers\":[{\"id\":\"p1779\"}]}}]}}]}}]}};\n",
       "  const render_items = [{\"docid\":\"9f371204-85d2-4c35-976f-7573809398f3\",\"roots\":{\"p1742\":\"eabd1a94-a53e-49fd-b49b-12154a760e87\"},\"root_ids\":[\"p1742\"]}];\n",
       "  root.Bokeh.embed.embed_items_notebook(docs_json, render_items);\n",
       "  }\n",
       "  if (root.Bokeh !== undefined) {\n",
       "    embed_document(root);\n",
       "  } else {\n",
       "    let attempts = 0;\n",
       "    const timer = setInterval(function(root) {\n",
       "      if (root.Bokeh !== undefined) {\n",
       "        clearInterval(timer);\n",
       "        embed_document(root);\n",
       "      } else {\n",
       "        attempts++;\n",
       "        if (attempts > 100) {\n",
       "          clearInterval(timer);\n",
       "          console.log(\"Bokeh: ERROR: Unable to run BokehJS code because BokehJS library is missing\");\n",
       "        }\n",
       "      }\n",
       "    }, 10, root)\n",
       "  }\n",
       "})(window);"
      ],
      "application/vnd.bokehjs_exec.v0+json": ""
     },
     "metadata": {
      "application/vnd.bokehjs_exec.v0+json": {
       "id": "p1742"
      }
     },
     "output_type": "display_data"
    },
    {
     "data": {
      "text/html": [
       "<div style=\"display: table;\"><div style=\"display: table-row;\"><div style=\"display: table-cell;\"><b title=\"bokeh.plotting._figure.figure\">figure</b>(</div><div style=\"display: table-cell;\">id&nbsp;=&nbsp;'p1742', <span id=\"p1794\" style=\"cursor: pointer;\">&hellip;)</span></div></div><div class=\"p1793\" style=\"display: none;\"><div style=\"display: table-cell;\"></div><div style=\"display: table-cell;\">above&nbsp;=&nbsp;[],</div></div><div class=\"p1793\" style=\"display: none;\"><div style=\"display: table-cell;\"></div><div style=\"display: table-cell;\">align&nbsp;=&nbsp;'auto',</div></div><div class=\"p1793\" style=\"display: none;\"><div style=\"display: table-cell;\"></div><div style=\"display: table-cell;\">aspect_ratio&nbsp;=&nbsp;None,</div></div><div class=\"p1793\" style=\"display: none;\"><div style=\"display: table-cell;\"></div><div style=\"display: table-cell;\">aspect_scale&nbsp;=&nbsp;1,</div></div><div class=\"p1793\" style=\"display: none;\"><div style=\"display: table-cell;\"></div><div style=\"display: table-cell;\">background_fill_alpha&nbsp;=&nbsp;1.0,</div></div><div class=\"p1793\" style=\"display: none;\"><div style=\"display: table-cell;\"></div><div style=\"display: table-cell;\">background_fill_color&nbsp;=&nbsp;'#ffffff',</div></div><div class=\"p1793\" style=\"display: none;\"><div style=\"display: table-cell;\"></div><div style=\"display: table-cell;\">below&nbsp;=&nbsp;[LinearAxis(id='p1755', ...)],</div></div><div class=\"p1793\" style=\"display: none;\"><div style=\"display: table-cell;\"></div><div style=\"display: table-cell;\">border_fill_alpha&nbsp;=&nbsp;1.0,</div></div><div class=\"p1793\" style=\"display: none;\"><div style=\"display: table-cell;\"></div><div style=\"display: table-cell;\">border_fill_color&nbsp;=&nbsp;'#ffffff',</div></div><div class=\"p1793\" style=\"display: none;\"><div style=\"display: table-cell;\"></div><div style=\"display: table-cell;\">center&nbsp;=&nbsp;[Grid(id='p1759', ...), Grid(id='p1764', ...), Legend(id='p1782', ...)],</div></div><div class=\"p1793\" style=\"display: none;\"><div style=\"display: table-cell;\"></div><div style=\"display: table-cell;\">context_menu&nbsp;=&nbsp;None,</div></div><div class=\"p1793\" style=\"display: none;\"><div style=\"display: table-cell;\"></div><div style=\"display: table-cell;\">css_classes&nbsp;=&nbsp;[],</div></div><div class=\"p1793\" style=\"display: none;\"><div style=\"display: table-cell;\"></div><div style=\"display: table-cell;\">disabled&nbsp;=&nbsp;False,</div></div><div class=\"p1793\" style=\"display: none;\"><div style=\"display: table-cell;\"></div><div style=\"display: table-cell;\">extra_x_ranges&nbsp;=&nbsp;{},</div></div><div class=\"p1793\" style=\"display: none;\"><div style=\"display: table-cell;\"></div><div style=\"display: table-cell;\">extra_x_scales&nbsp;=&nbsp;{},</div></div><div class=\"p1793\" style=\"display: none;\"><div style=\"display: table-cell;\"></div><div style=\"display: table-cell;\">extra_y_ranges&nbsp;=&nbsp;{},</div></div><div class=\"p1793\" style=\"display: none;\"><div style=\"display: table-cell;\"></div><div style=\"display: table-cell;\">extra_y_scales&nbsp;=&nbsp;{},</div></div><div class=\"p1793\" style=\"display: none;\"><div style=\"display: table-cell;\"></div><div style=\"display: table-cell;\">flow_mode&nbsp;=&nbsp;'block',</div></div><div class=\"p1793\" style=\"display: none;\"><div style=\"display: table-cell;\"></div><div style=\"display: table-cell;\">frame_align&nbsp;=&nbsp;True,</div></div><div class=\"p1793\" style=\"display: none;\"><div style=\"display: table-cell;\"></div><div style=\"display: table-cell;\">frame_height&nbsp;=&nbsp;None,</div></div><div class=\"p1793\" style=\"display: none;\"><div style=\"display: table-cell;\"></div><div style=\"display: table-cell;\">frame_width&nbsp;=&nbsp;None,</div></div><div class=\"p1793\" style=\"display: none;\"><div style=\"display: table-cell;\"></div><div style=\"display: table-cell;\">height&nbsp;=&nbsp;400,</div></div><div class=\"p1793\" style=\"display: none;\"><div style=\"display: table-cell;\"></div><div style=\"display: table-cell;\">height_policy&nbsp;=&nbsp;'auto',</div></div><div class=\"p1793\" style=\"display: none;\"><div style=\"display: table-cell;\"></div><div style=\"display: table-cell;\">hidpi&nbsp;=&nbsp;True,</div></div><div class=\"p1793\" style=\"display: none;\"><div style=\"display: table-cell;\"></div><div style=\"display: table-cell;\">hold_render&nbsp;=&nbsp;False,</div></div><div class=\"p1793\" style=\"display: none;\"><div style=\"display: table-cell;\"></div><div style=\"display: table-cell;\">js_event_callbacks&nbsp;=&nbsp;{},</div></div><div class=\"p1793\" style=\"display: none;\"><div style=\"display: table-cell;\"></div><div style=\"display: table-cell;\">js_property_callbacks&nbsp;=&nbsp;{},</div></div><div class=\"p1793\" style=\"display: none;\"><div style=\"display: table-cell;\"></div><div style=\"display: table-cell;\">left&nbsp;=&nbsp;[LinearAxis(id='p1760', ...)],</div></div><div class=\"p1793\" style=\"display: none;\"><div style=\"display: table-cell;\"></div><div style=\"display: table-cell;\">lod_factor&nbsp;=&nbsp;10,</div></div><div class=\"p1793\" style=\"display: none;\"><div style=\"display: table-cell;\"></div><div style=\"display: table-cell;\">lod_interval&nbsp;=&nbsp;300,</div></div><div class=\"p1793\" style=\"display: none;\"><div style=\"display: table-cell;\"></div><div style=\"display: table-cell;\">lod_threshold&nbsp;=&nbsp;2000,</div></div><div class=\"p1793\" style=\"display: none;\"><div style=\"display: table-cell;\"></div><div style=\"display: table-cell;\">lod_timeout&nbsp;=&nbsp;500,</div></div><div class=\"p1793\" style=\"display: none;\"><div style=\"display: table-cell;\"></div><div style=\"display: table-cell;\">margin&nbsp;=&nbsp;None,</div></div><div class=\"p1793\" style=\"display: none;\"><div style=\"display: table-cell;\"></div><div style=\"display: table-cell;\">match_aspect&nbsp;=&nbsp;False,</div></div><div class=\"p1793\" style=\"display: none;\"><div style=\"display: table-cell;\"></div><div style=\"display: table-cell;\">max_height&nbsp;=&nbsp;None,</div></div><div class=\"p1793\" style=\"display: none;\"><div style=\"display: table-cell;\"></div><div style=\"display: table-cell;\">max_width&nbsp;=&nbsp;None,</div></div><div class=\"p1793\" style=\"display: none;\"><div style=\"display: table-cell;\"></div><div style=\"display: table-cell;\">min_border&nbsp;=&nbsp;5,</div></div><div class=\"p1793\" style=\"display: none;\"><div style=\"display: table-cell;\"></div><div style=\"display: table-cell;\">min_border_bottom&nbsp;=&nbsp;None,</div></div><div class=\"p1793\" style=\"display: none;\"><div style=\"display: table-cell;\"></div><div style=\"display: table-cell;\">min_border_left&nbsp;=&nbsp;None,</div></div><div class=\"p1793\" style=\"display: none;\"><div style=\"display: table-cell;\"></div><div style=\"display: table-cell;\">min_border_right&nbsp;=&nbsp;None,</div></div><div class=\"p1793\" style=\"display: none;\"><div style=\"display: table-cell;\"></div><div style=\"display: table-cell;\">min_border_top&nbsp;=&nbsp;None,</div></div><div class=\"p1793\" style=\"display: none;\"><div style=\"display: table-cell;\"></div><div style=\"display: table-cell;\">min_height&nbsp;=&nbsp;None,</div></div><div class=\"p1793\" style=\"display: none;\"><div style=\"display: table-cell;\"></div><div style=\"display: table-cell;\">min_width&nbsp;=&nbsp;None,</div></div><div class=\"p1793\" style=\"display: none;\"><div style=\"display: table-cell;\"></div><div style=\"display: table-cell;\">name&nbsp;=&nbsp;None,</div></div><div class=\"p1793\" style=\"display: none;\"><div style=\"display: table-cell;\"></div><div style=\"display: table-cell;\">outline_line_alpha&nbsp;=&nbsp;1.0,</div></div><div class=\"p1793\" style=\"display: none;\"><div style=\"display: table-cell;\"></div><div style=\"display: table-cell;\">outline_line_cap&nbsp;=&nbsp;'butt',</div></div><div class=\"p1793\" style=\"display: none;\"><div style=\"display: table-cell;\"></div><div style=\"display: table-cell;\">outline_line_color&nbsp;=&nbsp;'#e5e5e5',</div></div><div class=\"p1793\" style=\"display: none;\"><div style=\"display: table-cell;\"></div><div style=\"display: table-cell;\">outline_line_dash&nbsp;=&nbsp;[],</div></div><div class=\"p1793\" style=\"display: none;\"><div style=\"display: table-cell;\"></div><div style=\"display: table-cell;\">outline_line_dash_offset&nbsp;=&nbsp;0,</div></div><div class=\"p1793\" style=\"display: none;\"><div style=\"display: table-cell;\"></div><div style=\"display: table-cell;\">outline_line_join&nbsp;=&nbsp;'bevel',</div></div><div class=\"p1793\" style=\"display: none;\"><div style=\"display: table-cell;\"></div><div style=\"display: table-cell;\">outline_line_width&nbsp;=&nbsp;1,</div></div><div class=\"p1793\" style=\"display: none;\"><div style=\"display: table-cell;\"></div><div style=\"display: table-cell;\">output_backend&nbsp;=&nbsp;'canvas',</div></div><div class=\"p1793\" style=\"display: none;\"><div style=\"display: table-cell;\"></div><div style=\"display: table-cell;\">renderers&nbsp;=&nbsp;[GlyphRenderer(id='p1779', ...), GlyphRenderer(id='p1790', ...)],</div></div><div class=\"p1793\" style=\"display: none;\"><div style=\"display: table-cell;\"></div><div style=\"display: table-cell;\">reset_policy&nbsp;=&nbsp;'standard',</div></div><div class=\"p1793\" style=\"display: none;\"><div style=\"display: table-cell;\"></div><div style=\"display: table-cell;\">resizable&nbsp;=&nbsp;False,</div></div><div class=\"p1793\" style=\"display: none;\"><div style=\"display: table-cell;\"></div><div style=\"display: table-cell;\">right&nbsp;=&nbsp;[],</div></div><div class=\"p1793\" style=\"display: none;\"><div style=\"display: table-cell;\"></div><div style=\"display: table-cell;\">sizing_mode&nbsp;=&nbsp;None,</div></div><div class=\"p1793\" style=\"display: none;\"><div style=\"display: table-cell;\"></div><div style=\"display: table-cell;\">styles&nbsp;=&nbsp;{},</div></div><div class=\"p1793\" style=\"display: none;\"><div style=\"display: table-cell;\"></div><div style=\"display: table-cell;\">stylesheets&nbsp;=&nbsp;[],</div></div><div class=\"p1793\" style=\"display: none;\"><div style=\"display: table-cell;\"></div><div style=\"display: table-cell;\">subscribed_events&nbsp;=&nbsp;PropertyValueSet(),</div></div><div class=\"p1793\" style=\"display: none;\"><div style=\"display: table-cell;\"></div><div style=\"display: table-cell;\">syncable&nbsp;=&nbsp;True,</div></div><div class=\"p1793\" style=\"display: none;\"><div style=\"display: table-cell;\"></div><div style=\"display: table-cell;\">tags&nbsp;=&nbsp;[],</div></div><div class=\"p1793\" style=\"display: none;\"><div style=\"display: table-cell;\"></div><div style=\"display: table-cell;\">title&nbsp;=&nbsp;Title(id='p1745', ...),</div></div><div class=\"p1793\" style=\"display: none;\"><div style=\"display: table-cell;\"></div><div style=\"display: table-cell;\">title_location&nbsp;=&nbsp;'above',</div></div><div class=\"p1793\" style=\"display: none;\"><div style=\"display: table-cell;\"></div><div style=\"display: table-cell;\">toolbar&nbsp;=&nbsp;Toolbar(id='p1751', ...),</div></div><div class=\"p1793\" style=\"display: none;\"><div style=\"display: table-cell;\"></div><div style=\"display: table-cell;\">toolbar_inner&nbsp;=&nbsp;False,</div></div><div class=\"p1793\" style=\"display: none;\"><div style=\"display: table-cell;\"></div><div style=\"display: table-cell;\">toolbar_location&nbsp;=&nbsp;None,</div></div><div class=\"p1793\" style=\"display: none;\"><div style=\"display: table-cell;\"></div><div style=\"display: table-cell;\">toolbar_sticky&nbsp;=&nbsp;True,</div></div><div class=\"p1793\" style=\"display: none;\"><div style=\"display: table-cell;\"></div><div style=\"display: table-cell;\">visible&nbsp;=&nbsp;True,</div></div><div class=\"p1793\" style=\"display: none;\"><div style=\"display: table-cell;\"></div><div style=\"display: table-cell;\">width&nbsp;=&nbsp;1150,</div></div><div class=\"p1793\" style=\"display: none;\"><div style=\"display: table-cell;\"></div><div style=\"display: table-cell;\">width_policy&nbsp;=&nbsp;'auto',</div></div><div class=\"p1793\" style=\"display: none;\"><div style=\"display: table-cell;\"></div><div style=\"display: table-cell;\">x_range&nbsp;=&nbsp;DataRange1d(id='p1744', ...),</div></div><div class=\"p1793\" style=\"display: none;\"><div style=\"display: table-cell;\"></div><div style=\"display: table-cell;\">x_scale&nbsp;=&nbsp;LinearScale(id='p1753', ...),</div></div><div class=\"p1793\" style=\"display: none;\"><div style=\"display: table-cell;\"></div><div style=\"display: table-cell;\">y_range&nbsp;=&nbsp;Range1d(id='p1752', ...),</div></div><div class=\"p1793\" style=\"display: none;\"><div style=\"display: table-cell;\"></div><div style=\"display: table-cell;\">y_scale&nbsp;=&nbsp;LinearScale(id='p1754', ...))</div></div></div>\n",
       "<script>\n",
       "(function() {\n",
       "  let expanded = false;\n",
       "  const ellipsis = document.getElementById(\"p1794\");\n",
       "  ellipsis.addEventListener(\"click\", function() {\n",
       "    const rows = document.getElementsByClassName(\"p1793\");\n",
       "    for (let i = 0; i < rows.length; i++) {\n",
       "      const el = rows[i];\n",
       "      el.style.display = expanded ? \"none\" : \"table-row\";\n",
       "    }\n",
       "    ellipsis.innerHTML = expanded ? \"&hellip;)\" : \"&lsaquo;&lsaquo;&lsaquo;\";\n",
       "    expanded = !expanded;\n",
       "  });\n",
       "})();\n",
       "</script>\n"
      ],
      "text/plain": [
       "figure(id='p1742', ...)"
      ]
     },
     "execution_count": 31,
     "metadata": {},
     "output_type": "execute_result"
    }
   ],
   "source": []
  },
  {
   "cell_type": "code",
   "execution_count": 53,
   "id": "60c5792d",
   "metadata": {},
   "outputs": [],
   "source": [
    "# Display the visuals in the browser \n",
    "\n",
    "output_file('dashboard.html')\n",
    "\n",
    "# Change to a dark theme\n",
    "curdoc().theme = 'dark_minimal'"
   ]
  },
  {
   "cell_type": "code",
   "execution_count": 73,
   "id": "ae2b538e",
   "metadata": {},
   "outputs": [
    {
     "name": "stderr",
     "output_type": "stream",
     "text": [
      "C:\\Users\\ghita\\AppData\\Local\\Temp\\ipykernel_15852\\1752945502.py:44: SettingWithCopyWarning: \n",
      "A value is trying to be set on a copy of a slice from a DataFrame.\n",
      "Try using .loc[row_indexer,col_indexer] = value instead\n",
      "\n",
      "See the caveats in the documentation: https://pandas.pydata.org/pandas-docs/stable/user_guide/indexing.html#returning-a-view-versus-a-copy\n",
      "  df_quakes_2016['coords_x'] = lst_lat\n",
      "C:\\Users\\ghita\\AppData\\Local\\Temp\\ipykernel_15852\\1752945502.py:45: SettingWithCopyWarning: \n",
      "A value is trying to be set on a copy of a slice from a DataFrame.\n",
      "Try using .loc[row_indexer,col_indexer] = value instead\n",
      "\n",
      "See the caveats in the documentation: https://pandas.pydata.org/pandas-docs/stable/user_guide/indexing.html#returning-a-view-versus-a-copy\n",
      "  df_quakes_2016['coords_y'] = lst_lon\n",
      "C:\\Users\\ghita\\AppData\\Local\\Temp\\ipykernel_15852\\1752945502.py:50: SettingWithCopyWarning: \n",
      "A value is trying to be set on a copy of a slice from a DataFrame.\n",
      "Try using .loc[row_indexer,col_indexer] = value instead\n",
      "\n",
      "See the caveats in the documentation: https://pandas.pydata.org/pandas-docs/stable/user_guide/indexing.html#returning-a-view-versus-a-copy\n",
      "  df_quakes_2016['Mag_Size'] = df_quakes_2016['Magnitude'] * 4\n"
     ]
    },
    {
     "data": {
      "text/html": [
       "\n",
       "  <div id=\"ca461f7d-5df2-4e33-b1bc-94f7b7dc999a\" data-root-id=\"p6449\" style=\"display: contents;\"></div>\n"
      ]
     },
     "metadata": {},
     "output_type": "display_data"
    },
    {
     "data": {
      "application/javascript": [
       "(function(root) {\n",
       "  function embed_document(root) {\n",
       "  const docs_json = {\"ca5aa116-2e63-4191-a003-c67b846f7f25\":{\"version\":\"3.3.0\",\"title\":\"Bokeh Application\",\"roots\":[{\"type\":\"object\",\"name\":\"GridPlot\",\"id\":\"p6449\",\"attributes\":{\"rows\":null,\"cols\":null,\"sizing_mode\":\"scale_width\",\"toolbar\":{\"type\":\"object\",\"name\":\"Toolbar\",\"id\":\"p6448\",\"attributes\":{\"tools\":[{\"type\":\"object\",\"name\":\"ToolProxy\",\"id\":\"p6442\",\"attributes\":{\"tools\":[{\"type\":\"object\",\"name\":\"PanTool\",\"id\":\"p6292\"},{\"type\":\"object\",\"name\":\"PanTool\",\"id\":\"p6350\"},{\"type\":\"object\",\"name\":\"PanTool\",\"id\":\"p6423\"}]}},{\"type\":\"object\",\"name\":\"ToolProxy\",\"id\":\"p6443\",\"attributes\":{\"tools\":[{\"type\":\"object\",\"name\":\"WheelZoomTool\",\"id\":\"p6293\",\"attributes\":{\"renderers\":\"auto\"}},{\"type\":\"object\",\"name\":\"WheelZoomTool\",\"id\":\"p6351\",\"attributes\":{\"renderers\":\"auto\"}},{\"type\":\"object\",\"name\":\"WheelZoomTool\",\"id\":\"p6424\",\"attributes\":{\"renderers\":\"auto\"}}]}},{\"type\":\"object\",\"name\":\"ToolProxy\",\"id\":\"p6444\",\"attributes\":{\"tools\":[{\"type\":\"object\",\"name\":\"BoxZoomTool\",\"id\":\"p6294\",\"attributes\":{\"overlay\":{\"type\":\"object\",\"name\":\"BoxAnnotation\",\"id\":\"p6295\",\"attributes\":{\"syncable\":false,\"level\":\"overlay\",\"visible\":false,\"left_units\":\"canvas\",\"right_units\":\"canvas\",\"top_units\":\"canvas\",\"bottom_units\":\"canvas\",\"line_color\":\"black\",\"line_alpha\":1.0,\"line_width\":2,\"line_dash\":[4,4],\"fill_color\":\"lightgrey\",\"fill_alpha\":0.5}}}},{\"type\":\"object\",\"name\":\"BoxZoomTool\",\"id\":\"p6352\",\"attributes\":{\"overlay\":{\"type\":\"object\",\"name\":\"BoxAnnotation\",\"id\":\"p6353\",\"attributes\":{\"syncable\":false,\"level\":\"overlay\",\"visible\":false,\"left_units\":\"canvas\",\"right_units\":\"canvas\",\"top_units\":\"canvas\",\"bottom_units\":\"canvas\",\"line_color\":\"black\",\"line_alpha\":1.0,\"line_width\":2,\"line_dash\":[4,4],\"fill_color\":\"lightgrey\",\"fill_alpha\":0.5}}}},{\"type\":\"object\",\"name\":\"BoxZoomTool\",\"id\":\"p6425\",\"attributes\":{\"overlay\":{\"type\":\"object\",\"name\":\"BoxAnnotation\",\"id\":\"p6426\",\"attributes\":{\"syncable\":false,\"level\":\"overlay\",\"visible\":false,\"left_units\":\"canvas\",\"right_units\":\"canvas\",\"top_units\":\"canvas\",\"bottom_units\":\"canvas\",\"line_color\":\"black\",\"line_alpha\":1.0,\"line_width\":2,\"line_dash\":[4,4],\"fill_color\":\"lightgrey\",\"fill_alpha\":0.5}}}}]}},{\"type\":\"object\",\"name\":\"SaveTool\",\"id\":\"p6445\"},{\"type\":\"object\",\"name\":\"ToolProxy\",\"id\":\"p6446\",\"attributes\":{\"tools\":[{\"type\":\"object\",\"name\":\"ResetTool\",\"id\":\"p6297\"},{\"type\":\"object\",\"name\":\"ResetTool\",\"id\":\"p6355\"},{\"type\":\"object\",\"name\":\"ResetTool\",\"id\":\"p6428\"}]}},{\"type\":\"object\",\"name\":\"ToolProxy\",\"id\":\"p6447\",\"attributes\":{\"tools\":[{\"type\":\"object\",\"name\":\"HelpTool\",\"id\":\"p6298\"},{\"type\":\"object\",\"name\":\"HelpTool\",\"id\":\"p6356\"},{\"type\":\"object\",\"name\":\"HelpTool\",\"id\":\"p6429\"}]}},{\"type\":\"object\",\"name\":\"HoverTool\",\"id\":\"p6299\",\"attributes\":{\"renderers\":\"auto\",\"tooltips\":[[\"Year\",\"@year\"],[\"Magnitude\",\"@mag\"],[\"Predicted Magnitude\",\" @pred_mag\"]]}},{\"type\":\"object\",\"name\":\"HoverTool\",\"id\":\"p6357\",\"attributes\":{\"renderers\":\"auto\",\"tooltips\":[[\"Year\",\"@yrs\"],[\"Average Magnitude\",\"@avg_mag\"],[\"Maximum Magnitude\",\"@max_mag\"]]}},{\"type\":\"object\",\"name\":\"HoverTool\",\"id\":\"p6430\",\"attributes\":{\"renderers\":\"auto\",\"tooltips\":[[\"Year\",\"@yrs\"],[\"Number of earthquakes\",\"@numQuakes\"]]}}]}},\"children\":[[{\"type\":\"object\",\"name\":\"Figure\",\"id\":\"p6268\",\"attributes\":{\"width\":2300,\"height\":850,\"sizing_mode\":\"scale_width\",\"x_range\":{\"type\":\"object\",\"name\":\"Range1d\",\"id\":\"p6278\",\"attributes\":{\"start\":-2000000,\"end\":6000000}},\"y_range\":{\"type\":\"object\",\"name\":\"Range1d\",\"id\":\"p6279\",\"attributes\":{\"start\":-1000000,\"end\":7000000}},\"x_scale\":{\"type\":\"object\",\"name\":\"LinearScale\",\"id\":\"p6280\"},\"y_scale\":{\"type\":\"object\",\"name\":\"LinearScale\",\"id\":\"p6281\"},\"title\":{\"type\":\"object\",\"name\":\"Title\",\"id\":\"p6271\",\"attributes\":{\"text\":\"Earthquake Map\",\"text_color\":\"#E0E0E0\",\"text_font\":\"serif\",\"text_font_size\":\"20pt\",\"align\":\"center\"}},\"outline_line_color\":\"#E0E0E0\",\"outline_line_alpha\":0.25,\"renderers\":[{\"type\":\"object\",\"name\":\"GlyphRenderer\",\"id\":\"p6306\",\"attributes\":{\"data_source\":{\"type\":\"object\",\"name\":\"ColumnDataSource\",\"id\":\"p6262\",\"attributes\":{\"selected\":{\"type\":\"object\",\"name\":\"Selection\",\"id\":\"p6263\",\"attributes\":{\"indices\":[],\"line_indices\":[]}},\"selection_policy\":{\"type\":\"object\",\"name\":\"UnionRenderers\",\"id\":\"p6264\"},\"data\":{\"type\":\"map\",\"entries\":[[\"lat\",[-6543390.724483237,-3328358.0702136224,5591172.898038173,2851640.5215679468,3582617.0285600303,-7225385.693391577,2519559.275530917,-3589189.5968190334,-7895731.329585679,434091.130985274,5539417.811527147,-3676788.280848081,4383206.456763607,-3600829.447882163,2946475.6765804114,2624462.067661116,-1919649.3727256414,-1714752.0518279816,-738658.6098666815,-3577327.8402285944,-1077518.9345580437,-3886984.5412093443,-551952.8806289821,-534289.4164623911,-1092279.3816380876,-370880.47196445666,-345125.133793962,-3890327.522750172,-1701661.4348117206,6701229.281034023,6721815.015535953,3945945.23053972,-374080.791003844,7761753.97926687,-1611357.202772603,468775.96792111447,-1591614.9794630976,-1582053.595071207,-1597470.6170010692,-916356.9030152019,-672409.5786799104,-1571979.4590359947,-462257.586109796,1811174.038604051,4365832.938958695,6643310.475927785,6773859.823305286,-418505.0455930204,-7410479.387446073,-560233.0274267893,-677928.4070738676,5418424.9975573495,-7511617.038765008,-1672495.0545528778,1548060.141959909,-999439.4980835484,2081535.6065417049,1852333.4820856596,-8997877.969353518,2838365.246911671,2836895.013382633,-3532220.974959881,-233455.68729851866,2040088.6479005006,-3419298.4832275123,-511168.83740093646,-1996283.2379809062,-3506570.907184386,-3509116.8698924873,-5645608.880689954,2080163.2375550573,2096579.1308771288,142378.32007136501,-452447.43496013916,-1260322.1273079962,1440522.2984627502,-969486.3282046615,-832620.1045632168,-1860667.204540434,-1189867.89525655,-7713171.987908111,-45318.54601658557,-4274618.876232512,-1692473.3553627734,-1698767.4525167744,-1645353.0122122725,65390.214373085604,64699.99763943559,-718310.979350528,-2749095.058186247,-8126461.540002937,-2551709.5517699746,2868953.7923551914,-2744089.018216976,-2568831.740902209,-2897353.1892552385,-4489209.573341354,-4500545.7623202745,-4470697.205647996,-4441532.400450267,-4446385.293838093,-4442926.682361412,-4471340.325008444,61594.03159729839,-4483469.075802989,-7426079.75738785,-2213915.801501731,4912675.02068954,4359273.23933069,2306420.320560517,938327.8076290637,-4456823.764446551,7249204.8093854645,-1219510.091862458,-7287232.027312336,-3681872.3599156886,-621364.074218154,-115277.60839181444,-3344525.2231373596,-2714535.8476083255,3230314.566706101,797189.2654855343,2586827.7678902973,-450405.18369439204,-4304433.519025345,-4456418.872302224,197100.25765049175,-1732109.4437709805,-603705.6005118577,-680771.976234633,-4176730.7437068527,-905830.9111608852,-7991177.156025094,-4380392.084819088,-528290.8084284626,-6454454.065666398,-2323743.5323901074,4649917.791428913,-2871569.0678798584,681925.11549967,-4191379.7565639713,-1725206.5409805682,6846037.379623727,-2588190.6188395876,502022.99706885614,-816613.0848425829,1235690.5297297353,588980.6922978276,5438076.329098564,4932064.174315522,-1195690.063706147,-1144151.1386994515,-1217265.6283307744,-1214148.5648662208,-1203654.6642516751,-1240091.3303174912,-1228920.328684846,-1227026.7319589504,-1163431.2025315375,-1156222.5862376215,-1218829.9356544984,-631017.2840090224,-1019965.3263767234,-1228024.5420570814]],[\"lon\",[15523380.539682128,-19734830.64732233,14464921.425372442,10425125.972535465,14775847.895107137,-15168427.211338695,15986681.128414653,-7974739.077295771,-16469562.815577714,14122224.37296535,15705699.601703351,6477859.280445858,7898151.267629998,-20031986.896045897,13742123.971651718,13425286.436955903,19474109.267935403,-19302254.23804875,17225811.77628182,-7968672.165047537,13291691.916054895,-19857794.15685258,10500756.434580415,10509684.257742038,13950113.30824987,16567067.557563543,16568659.426281884,-19839560.024260644,-19305927.781244926,-19366530.112032786,-19363168.263410825,15182876.481243663,16128747.062565029,-17580920.951912362,18574224.76826074,14098780.48820429,18557092.698627654,18548554.493683815,18550179.758249395,11954121.442479238,14519356.656370355,18545192.645061854,11378076.473471284,-10715202.301644579,7918277.831565422,19986234.58532986,19667348.77200345,-11570180.518733237,16272037.51111413,11647035.495176913,-11929341.723828655,16420326.20479985,-16019486.98235143,18583019.00803341,5762820.795233425,-12049121.495922217,-11726072.333640138,-10891677.090399155,18406009.885723025,13579185.632977603,13586888.9417405,-19809804.324371602,11206021.0685012,-11781364.724717155,-7999351.816710162,13984666.878192104,-19217272.938777164,-19796601.83276352,-7955291.562254186,18571230.273958404,-11707815.93715004,-11711155.521873841,14067577.634934934,-11638797.852858212,12942772.10411246,-9680710.273702689,17873346.12227721,-1513978.4706357587,-19727394.505337343,18364176.02108291,-15816250.988010151,-8995449.752277454,-11493859.875845369,-19244512.81817428,-19280658.256834853,18633290.890075654,-8865016.704914976,-8865261.60779472,16415327.95966323,9190147.54167489,-2844146.1980736633,-7347954.684384244,15808937.297465034,9176510.904052714,19271262.891811904,-19741765.851598755,19942452.629600868,19981191.812396925,19936541.56463974,19914021.631652266,19918296.30009873,19928181.470881168,19881972.75025288,10977715.924833277,19894440.53322173,-3441764.884397353,-19336852.3357873,-13991487.056038685,-10790098.055050293,16407992.005219955,14013721.265289148,19892637.157470874,18761953.95753452,18476820.213816624,17667805.814476512,-7327650.009263551,-8566435.566709256,3519710.791850803,-12501768.809385827,-19472684.37845325,15801156.065058582,-3821998.8690999374,13518193.683971971,-11567976.39281553,-11244292.709435929,19886113.83531039,14187557.782111922,-19460851.116581924,17088142.96201778,16548621.9179391,-7908771.147051676,11670746.546715882,16496580.055993244,-8188695.138600441,16683596.80052594,12732912.600068979,-19839693.6076496,15759032.769742409,19902288.557322655,-9193943.53631094,6013690.399685146,-7884425.574415187,19388493.4475663,-19629867.499453355,14230438.049965493,13734621.037972253,-6779412.649055758,10705350.526709374,9611892.564494286,-14047807.293370048,17958216.102058005,17931254.52138787,17948063.764497656,17957358.941978898,17937087.66270544,17973066.122129828,17956935.92791388,17962412.84686091,17959062.130188033,17961410.97144377,17953485.023699287,17195900.229105666,-12228357.008048467,17986146.162298035]],[\"mag\",[6.3,5.8,5.8,6.7,5.8,6.0,5.7,5.7,5.6,6.5,6.2,5.9,5.7,6.2,5.7,6.4,5.7,5.8,6.4,6.3,6.3,5.6,7.8,5.6,5.6,5.9,5.6,5.5,5.9,5.6,6.3,5.9,6.2,5.9,6.9,5.9,5.8,6.7,5.9,6.1,5.5,6.7,5.7,5.5,6.6,5.6,5.6,5.8,5.5,5.7,5.6,5.7,5.5,5.7,5.5,5.6,5.6,5.8,5.5,5.8,5.7,5.5,6.6,5.8,5.8,6.3,5.6,6.1,5.5,5.5,6.3,5.5,6.3,5.9,6.1,6.1,6.2,5.5,5.8,5.9,5.8,5.5,5.6,5.8,6.0,5.6,5.9,6.3,5.6,5.6,5.6,6.2,6.3,5.5,7.2,6.1,7.0,5.5,5.5,5.7,6.1,5.5,5.5,5.5,5.5,5.5,5.5,5.64,5.8,5.5,5.8,5.9,6.1,5.6,6.1,5.6,6.1,5.9,5.8,5.6,5.7,5.5,5.8,5.6,5.6,5.8,5.8,5.6,5.6,6.0,6.3,5.8,5.7,6.0,5.9,5.7,5.6,6.1,5.9,5.6,5.5,6.2,5.9,5.5,5.7,6.3,5.9,6.5,6.0,6.6,7.8,5.7,5.5,6.5,6.9,5.5,5.5,5.8,5.5,5.6,5.8,6.0,5.8,5.5]],[\"year\",[2016.0,2016.0,2016.0,2016.0,2016.0,2016.0,2016.0,2016.0,2016.0,2016.0,2016.0,2016.0,2016.0,2016.0,2016.0,2016.0,2016.0,2016.0,2016.0,2016.0,2016.0,2016.0,2016.0,2016.0,2016.0,2016.0,2016.0,2016.0,2016.0,2016.0,2016.0,2016.0,2016.0,2016.0,2016.0,2016.0,2016.0,2016.0,2016.0,2016.0,2016.0,2016.0,2016.0,2016.0,2016.0,2016.0,2016.0,2016.0,2016.0,2016.0,2016.0,2016.0,2016.0,2016.0,2016.0,2016.0,2016.0,2016.0,2016.0,2016.0,2016.0,2016.0,2016.0,2016.0,2016.0,2016.0,2016.0,2016.0,2016.0,2016.0,2016.0,2016.0,2016.0,2016.0,2016.0,2016.0,2016.0,2016.0,2016.0,2016.0,2016.0,2016.0,2016.0,2016.0,2016.0,2016.0,2016.0,2016.0,2016.0,2016.0,2016.0,2016.0,2016.0,2016.0,2016.0,2016.0,2016.0,2016.0,2016.0,2016.0,2016.0,2016.0,2016.0,2016.0,2016.0,2016.0,2016.0,2016.0,2016.0,2016.0,2016.0,2016.0,2016.0,2016.0,2016.0,2016.0,2016.0,2016.0,2016.0,2016.0,2016.0,2016.0,2016.0,2016.0,2016.0,2016.0,2016.0,2016.0,2016.0,2016.0,2016.0,2016.0,2016.0,2016.0,2016.0,2016.0,2016.0,2016.0,2016.0,2016.0,2016.0,2016.0,2016.0,2016.0,2016.0,2016.0,2016.0,2016.0,2016.0,2016.0,2016.0,2016.0,2016.0,2016.0,2016.0,2016.0,2016.0,2016.0,2016.0,2016.0,2016.0,2016.0,2016.0,2016.0]],[\"mag_s\",[25.2,23.2,23.2,26.8,23.2,24.0,22.8,22.8,22.4,26.0,24.8,23.6,22.8,24.8,22.8,25.6,22.8,23.2,25.6,25.2,25.2,22.4,31.2,22.4,22.4,23.6,22.4,22.0,23.6,22.4,25.2,23.6,24.8,23.6,27.6,23.6,23.2,26.8,23.6,24.4,22.0,26.8,22.8,22.0,26.4,22.4,22.4,23.2,22.0,22.8,22.4,22.8,22.0,22.8,22.0,22.4,22.4,23.2,22.0,23.2,22.8,22.0,26.4,23.2,23.2,25.2,22.4,24.4,22.0,22.0,25.2,22.0,25.2,23.6,24.4,24.4,24.8,22.0,23.2,23.6,23.2,22.0,22.4,23.2,24.0,22.4,23.6,25.2,22.4,22.4,22.4,24.8,25.2,22.0,28.8,24.4,28.0,22.0,22.0,22.8,24.4,22.0,22.0,22.0,22.0,22.0,22.0,22.56,23.2,22.0,23.2,23.6,24.4,22.4,24.4,22.4,24.4,23.6,23.2,22.4,22.8,22.0,23.2,22.4,22.4,23.2,23.2,22.4,22.4,24.0,25.2,23.2,22.8,24.0,23.6,22.8,22.4,24.4,23.6,22.4,22.0,24.8,23.6,22.0,22.8,25.2,23.6,26.0,24.0,26.4,31.2,22.8,22.0,26.0,27.6,22.0,22.0,23.2,22.0,22.4,23.2,24.0,23.2,22.0]]]}}},\"view\":{\"type\":\"object\",\"name\":\"CDSView\",\"id\":\"p6307\",\"attributes\":{\"filter\":{\"type\":\"object\",\"name\":\"AllIndices\",\"id\":\"p6308\"}}},\"glyph\":{\"type\":\"object\",\"name\":\"Circle\",\"id\":\"p6303\",\"attributes\":{\"x\":{\"type\":\"field\",\"field\":\"lon\"},\"y\":{\"type\":\"field\",\"field\":\"lat\"},\"size\":{\"type\":\"field\",\"field\":\"mag_s\"},\"line_color\":{\"type\":\"value\",\"value\":\"#1f77b4\"},\"fill_color\":{\"type\":\"value\",\"value\":\"#cc0000\"},\"fill_alpha\":{\"type\":\"value\",\"value\":0.7}}},\"nonselection_glyph\":{\"type\":\"object\",\"name\":\"Circle\",\"id\":\"p6304\",\"attributes\":{\"x\":{\"type\":\"field\",\"field\":\"lon\"},\"y\":{\"type\":\"field\",\"field\":\"lat\"},\"size\":{\"type\":\"field\",\"field\":\"mag_s\"},\"line_color\":{\"type\":\"value\",\"value\":\"#1f77b4\"},\"line_alpha\":{\"type\":\"value\",\"value\":0.1},\"fill_color\":{\"type\":\"value\",\"value\":\"#cc0000\"},\"fill_alpha\":{\"type\":\"value\",\"value\":0.1},\"hatch_alpha\":{\"type\":\"value\",\"value\":0.1}}},\"muted_glyph\":{\"type\":\"object\",\"name\":\"Circle\",\"id\":\"p6305\",\"attributes\":{\"x\":{\"type\":\"field\",\"field\":\"lon\"},\"y\":{\"type\":\"field\",\"field\":\"lat\"},\"size\":{\"type\":\"field\",\"field\":\"mag_s\"},\"line_color\":{\"type\":\"value\",\"value\":\"#1f77b4\"},\"line_alpha\":{\"type\":\"value\",\"value\":0.2},\"fill_color\":{\"type\":\"value\",\"value\":\"#cc0000\"},\"fill_alpha\":{\"type\":\"value\",\"value\":0.2},\"hatch_alpha\":{\"type\":\"value\",\"value\":0.2}}}}},{\"type\":\"object\",\"name\":\"GlyphRenderer\",\"id\":\"p6317\",\"attributes\":{\"data_source\":{\"type\":\"object\",\"name\":\"ColumnDataSource\",\"id\":\"p6265\",\"attributes\":{\"selected\":{\"type\":\"object\",\"name\":\"Selection\",\"id\":\"p6266\",\"attributes\":{\"indices\":[],\"line_indices\":[]}},\"selection_policy\":{\"type\":\"object\",\"name\":\"UnionRenderers\",\"id\":\"p6267\"},\"data\":{\"type\":\"map\",\"entries\":[[\"pred_lat\",[-4305644.878725946,-545572.9963252052,-2662437.544199333,2755248.2180776442,-5365811.401172721,-2198935.6254887776,-2201815.0661135376,-2169151.5511257183,-2151981.0195756736,-2022267.689426525,-2130721.2189970976,-2549699.865701337,-694543.9332678925,-7232331.040247741,12673256.347779717,499019.2775873914,1653476.4320984208,-1131687.975289045,-2610385.9209709303,-2291994.7871158165,-587136.108265621,3372.9807282539505,-2110306.486492369,-1702145.7202415739,-2114300.813983417,-1533175.837365457,369430.8808398337,-1523097.209169454,2255613.0303128827,5251466.08195597,5249092.034354799,-1158542.31074942,314783.38479557785,-696727.5869158688,-751615.0630744306,1355850.2420601917,-3515612.666032386,-1663110.5734038544,78148.23778704347,1358742.0221909478,1697280.2399914016,384206.4656621807,2899247.571116649,1108390.3548526065,-2736515.995592676,-1686526.5676896854,-2188094.3838645956,-2423170.738547443,-942997.9000432289,-2663406.851823695,-2033417.1551428244,-2109578.1952632125,4518380.554022869,-5588992.228074327,-7820139.622008823,8306487.562006566,4525320.617361077,-817948.6770221533,1099802.996351176,-7397288.521822361,-668525.4304657294,-698418.5745860382,5088588.534926192,-1691850.9498408462,-8433232.08722776,-3570322.1306225546,1618757.24354095,685451.8444193258,-2393392.991688738,-1766434.174267657,6635262.103856747,-1293287.889404825,-908799.531326025,-948748.992832175,-339539.992015826,6938469.688544394,7747885.474860748,2963540.901167296,34353.36095726692,6922941.295510339,-2593172.612202951,-7482427.682112884,6654349.953489209,4269774.326043047,-2157361.3814672176,1540382.0671977927,1547853.8366059961,-6832047.59130031,1464599.6400086829,632818.3313257238,636331.0777585702,857123.4469409954,862313.1988759948,638680.4740663961,-2064241.1614338474,-2664133.870717765,-822977.1091850322,-1504450.120204938,1973247.8774015973,-2047816.2328304106,-301988.9644560258,-4340474.349688632,-2337314.354431834,-3900003.6645173165,-3897255.305117063,-3900282.5196553133,-7337411.688928481,6658187.08326438,-1866135.711318369,-3924408.758540344,-3912532.1501572262,613680.5528100671,-1081459.7614575624,3608746.6061610063,8359970.740134858,8361875.379767513,8350300.101798156,8348464.775425542,-1312938.1458496503,4792667.472756803,4790503.900218573,-8586207.569116628,6625734.82365355,6629257.565175177,6752243.306047916,2808339.2316463753,6627150.819317838,-1641809.9026616956,6756972.061558729,-7641276.689954517,-7637796.156257059,-7675664.015505834,-3208248.7246229313,1450445.4558200159,4546886.706747683,-2371464.574741726,3151660.834632129,-448095.1517515751,1049075.6774900411,1977857.613992557,1926809.1237635878,5453657.620247199,-310681.9021402735,-1121049.0407249308,6858557.903920932,-2549170.4076041034,7104842.120234905,-143870.3768323784,-4487249.0510882195,-8100499.685198234,2164321.5495230677,7176067.416283686,-527676.4522642265,-8997805.451620065,-453675.0399595397,-1902394.1145143113,-7227922.704199101,1610771.2655774383,-929517.8827989912,-3697894.4979751343,4711592.3876203345,-2075577.6191125002,1591959.3923035788,1678726.4619239368,1726499.241972048,-3569999.0833416884,-7445379.231640741,-9036901.844784355,1266349.5260567088,-2764708.0832564547,-2361950.752767476,1541814.3773614864,-2207988.437418792,-5047525.047991203,-1736970.3674071126,-1066974.4236178973,-2220022.200725581,-2850083.1727469866,5434235.246962346,-3543498.6991029233,-3649032.4471866395,-509717.04716724897,3994117.608229388,-31715.053620725674,-3169524.199447897,-3178313.99124862,-4232681.143815502,5922688.114774268,1246500.756029532,-745752.8974622741,-2578074.42083684,-7572383.258442905,1230893.4115588807,-4321997.7203316195,-6357337.283314072,-4217157.9086806,4990992.382834879,-532580.2680479435,45619.11627917563,-2318066.2695521857,-2317341.8919830867,7280814.093520289,7254582.226507023,-1852960.1451625917,-7754111.940643026,-1969234.135804802,4497391.699737972,4429256.6953345,-2043834.993375725,34464.6820680013,4871567.652741578,3110671.5547305616,-396363.01566563087,1505010.8360824403,7227731.923012483,5800306.867275992,-3317861.212150935,681981.0936987327,-1145282.3105185104,-5989276.000660639,-605897.2791313904,-376534.060890135,-372999.13958976517,3920896.384432669,5512343.6078667715,6873195.893977935,6885703.918075628,-2876874.679370592,1574962.2867086118,-1839328.3396986248,-3534591.685046523,-419776.828952932,-1200527.5166430902,-7355095.6786795445,-1665850.7073915948,3334180.5471230606,-123795.04571138619,-698004.2220956333,-2032972.4655502085,-5985748.279869394,-161708.8821725821,-129028.0895611599,8062469.851229396,7771982.62055044,1576029.3031772126,5061494.911955777,-7912625.714267072,-1832961.9011957513,3221629.9168965113,1691758.742954441,1709872.5242152764,1698536.8710225923,1735030.4984869228,5128275.333156286,7787187.344932034,2747669.8187303916,1678530.6267919843,2118248.9355914155,-7448440.212338019,1815089.6939157222,-703995.8215343215,-2101533.516183289,-3739915.568881679,1718917.152009302,1701303.9921897436,2102014.9316169075,-6569926.986643506,4576798.589796728,-2129686.461762279,-566748.298184276,-681600.442976885,2698450.1605495107,4925775.566875482,1745701.721099107,1877309.0836236048,844230.1342541707,1725356.5830811297,-695092.6385978509,-2702494.352232406,4914743.655082393,3349465.5891309045,438911.39930979925,1512186.7203117542,-2557126.0721197636,106415.23801256623,4509494.443295251,4452482.453741789,-4206130.0392036885,-2153793.9305472,-8799329.294446291,6871116.152136846,-2104551.359970118,-7220161.650973685,-7219284.962370067,-3631956.9676027764,1831095.2137202795,-2735164.9224374145,-2720870.1036247457,-2343223.557681384,-26527.511136182584,-620133.7559040728,3289163.7310350225,-6862547.445647728,-805503.2306815294,-541126.3941315995,22972492.920816742,23017578.89083119,23070653.714063987,-961120.3823463281,-2475197.087909239,-2442723.714941221,-1746464.1334434794,-426236.4080493929,-419832.6093060029,-417177.49998489686,-425488.90432073775,-2478875.5770178144,-2469363.43797136,-2488321.031005311,-2480205.777766392,-2490671.2143681957,2114911.7816435685,-1726072.1813098392,-2420053.3593098465,-1707473.4933615183,-2113725.1115881503,1308391.019937781,-2472753.18361226,-2000220.328516855,-472794.39156972774,-2496656.043696367,3831869.552869018,-5081425.444171707,-1316405.7714694205,4151779.3925998537,4570289.9003546275,1064073.4976731613,-2054574.397347699,-2111410.720620923,1471113.6276090278,-8187111.827621816,4310739.577394617,-2456660.792872055,3792263.2916084253,3482140.0594611526,-330287.73264516547,274464.949188219,-2468081.975861971,-2451922.130950162,-2416088.7546149213,-2430626.024760267,-2449780.5835856874,-1657447.0457099949,-6795732.894736507,-4380114.846842927,3140736.139320978,-2347731.0651551904,-509784.05228970014,11972630.390174912,-2954956.4261257593,-1621239.7221826883,5653346.910651668,-751603.8537432499,-488869.975569843,-120254.43798601728,3599857.9663209543,-684209.0685570824,-6237394.496044554,-52320.747453207616,-3861757.15764775,-1566014.8139201794,-70121.559796827,1132049.8215287544,-3575065.421551152,1120201.224843237,-1818009.4917290597,1129381.2901968637,-2371952.904337748,-1612529.117119659,-2238506.885499229,3598666.3855736377,3610366.9396063318,-7211722.819822231,-2418106.7702445276,-836403.7278979729,-1959937.7578399326,-8316409.16625335,-2494688.855133488,3582901.595867437,3412595.806500549,7143535.427905174,-1731128.1413604217,-3234457.453569088,454601.3348356274,-7670127.402271534,-6999959.447355698,-605248.7137534146]],[\"pred_lon\",[5780687.573505744,-8501191.21315532,19952716.286652006,10243363.50796821,-8293491.307233229,19597996.729239237,19587020.627447024,19613102.784139886,19624201.33737198,18604102.919589657,19620806.092902783,-7546904.878329982,16417053.411770526,-15123699.039937956,-10287657.533354852,13649673.134547904,16067855.301101107,17925454.77591754,-7770467.811690112,5192709.155084753,11435127.712502839,13923507.949950278,19618557.43918876,-19288127.794667084,19602182.34209307,18537177.64172474,10961585.730617331,18525444.56739513,-8526405.077819996,1472400.640824471,1468348.6113595958,17959785.70687819,14272093.803420337,17273645.761475686,17098918.688726567,16281210.237155495,-19753988.731687855,18607910.046174783,-8869591.935986578,15699053.828102991,-6737656.708059201,-8312393.356769928,7042560.793341977,13965208.231201438,-7420468.200686982,-19634654.237557467,-7113838.66329691,19411291.67928076,3342979.968267402,-19904325.70400417,-19863671.825966466,18857978.150292795,15733306.835420081,-9005435.110601611,-15876597.283969184,-16993432.33925086,4278063.6909309,17337788.05207077,13970161.94854174,-14379951.258049939,16626890.651915848,11375438.201539483,15796480.646445265,18719775.002472945,16731252.674534539,-19761447.137571003,16164992.688767318,10275278.80597864,18931883.16023045,-19717030.66074449,19934649.133296255,12754285.942301288,17895008.895185582,12837731.032599926,15235864.558861258,19176073.595234573,18121265.76022291,-12247782.259191895,13422926.463751087,-3597701.22710057,2800330.846497431,-3339729.4391362383,-19634220.09154337,6727738.14142952,18877414.533385303,13461921.68137597,13462467.146880858,15547347.626049919,13955200.608979123,14159983.944242429,14148139.550422024,13893997.152940981,13899607.655276963,14170982.309932806,-19833604.431503203,-7538834.215247469,9258653.55630907,18545404.152094364,-6806329.70192957,-19855946.253305417,-8382747.274951275,-10956943.707851252,-19325252.84484664,-8018298.394043178,-8027849.60635324,-8021871.749697642,-14504840.594770912,19885512.71006011,-19330217.69413602,-8011596.960697423,-7992717.175058885,13922261.171653392,12451029.385482254,14629017.486750808,-15218643.43363554,-15217841.933301827,-15209492.971492331,-15215348.37670806,-1551548.7987784883,7953087.436336478,7950694.067284424,-4231921.761997088,-19704841.176502623,-19702080.45313095,-19880269.562043745,14061588.646330256,-19708436.796055246,18632289.01465851,-19868358.376528863,-2865719.9153894004,-2870606.8410352245,-2876918.6561632035,-19658409.81689275,-10025555.79228209,6368120.52642185,-7648873.53189662,14476454.124618625,16973784.44912585,13798462.765942194,-11724480.464921793,-10473828.249757523,16444048.388287898,13594113.576692982,18028581.15218843,-18553163.120602652,-19628954.67962885,-17921024.26018397,13406350.991571967,-7980449.767173465,-2921234.945448006,16234411.523226002,19026682.83859,16156499.011619791,17347361.528278995,-8945445.037013115,-19783221.22997017,-16323778.810434842,-10354349.040289104,11828697.772202456,-7988286.659325312,2934938.3747646576,18782715.042567465,-10382156.649089262,-10242417.292296467,-10817538.309530836,-19821136.648534358,-13887941.372641826,-17932690.542819105,-9646423.870538358,19993436.956384186,-19652576.675575186,-10126934.452547526,3839208.862376577,8976614.494435232,-8169236.491609777,7366010.705790913,-19617444.244280823,-19727572.61652261,16461325.17325901,-19777221.10941641,20029237.304623302,17035678.086006906,-4290754.112881334,-8960406.37657573,-19638350.044651803,-19616453.500812765,-8163681.649019193,-12531825.07190001,13873592.290278576,16446909.299201284,19269426.120213814,-3066028.2071228167,13890891.33914785,-11201334.517938806,18258144.206102323,-8155822.492969188,14656736.039958334,17055359.37197916,13579241.292722998,-19309590.192492027,-19299949.924589332,18773854.01110032,18797075.256879795,-8197088.628206255,-15741678.061127735,7400920.498103682,15761270.291507354,3051701.3886577226,18832207.68817415,13381003.543518338,15972988.831047077,14491972.06163521,14035684.600822661,-5490934.070919933,18846512.24274109,16817848.10642263,-7669278.394559028,13961133.937838405,17976171.935922958,11117154.71900093,16873975.3936806,16348847.95976149,16340409.942359356,11561107.980233584,9220782.665541198,-18818515.390806578,-18828678.860316005,-1513956.2067375998,13440615.130838137,-8179132.7943413,-8032792.191744462,11312598.348986682,-8300671.414389395,-14446186.355071936,-19271218.364015583,14237840.796103245,-1520679.9039815138,14254382.872435123,-19908444.52516352,17814458.11164757,16484190.196667952,11097228.530148936,-17104406.739622675,-3792777.5027667037,16318858.48894178,14363520.501208851,-2851237.2496371954,18699236.556421585,15562921.222811898,-10452822.261844832,-10497105.155282399,-10470811.491557026,-10523287.499516975,15906798.261821399,-3746156.9000224797,15844915.75688942,-10465579.475489743,16224448.428800004,-3157232.2659297455,-10590758.24288678,16572221.649987271,-1413334.5190095599,-8029040.724904728,-10527105.758051185,-10479995.349547472,-10963711.932891482,18104078.030844428,16103488.670104034,18823524.76789228,16456026.365497254,12581774.127418952,-12115011.502522757,-14118940.44798695,-10511754.800270792,-10584012.281744706,13886304.976127166,-10482978.71190073,17000879.61318493,-19685415.925359197,15845483.486292463,15643995.20795664,14304365.323801303,-5491635.38371193,-7627299.814580885,-2839637.7586965365,16032244.19599634,15704630.934591737,-1731262.9847151493,-19543906.58866279,17209826.297403906,19677846.199985255,-7764823.913506894,958304.9684429747,927981.539150887,-7304629.138567501,-10560390.285798375,-19577959.220896453,-19556986.628831,-19347572.402750693,13686642.337440351,16384136.238342956,14606319.44257806,1868063.5069510029,13700479.350145955,14592938.839784708,6028117.405691953,5923410.2926518,6144858.15568686,13245249.424495943,18829524.888446037,18804589.322508343,-19287994.211278133,14217825.551658614,14211881.090850255,14221254.191975046,14223180.019165771,18805669.121569037,18797242.236115985,18810967.929330796,18794114.158424694,18796396.207985956,-11862683.612741644,-19276995.84558776,18808697.011718616,-19301107.647293583,-19786471.75910133,-6810348.335547209,18774644.379484948,-19875772.254615694,15972632.608676542,-19968746.293326236,15744806.138819026,-9371976.797936622,-1571185.556954422,5116154.741266219,16133622.856261773,-9404994.158905908,-19815515.014249295,-19093797.359589268,15997913.265035696,-1903663.4801066918,14391383.769754406,18758402.86577821,15645943.299045524,10573548.249610139,-8872942.652659455,14265381.238125501,18776581.338624753,18768288.036560655,18766718.431740474,18776425.491337646,18791709.65742356,-19486309.884126347,15551076.828991493,19760311.67876491,14511408.444727717,19207922.10155053,17057140.48383185,364526.8045516536,-1543366.8162051828,-8478025.62712124,16286175.086444875,14447221.626336314,16008065.60259604,-2608471.704115224,6379386.058890129,16437035.260367919,11891749.131787766,-8940079.43755688,-19900696.688604306,18968629.72414131,13766669.919371633,15609185.603185581,-19869683.078469306,15605556.58778572,-19360374.14419192,15607170.720402226,-19338555.52399644,18639658.36494903,-7910262.828228306,6376324.772893313,6378406.4473711485,240761.79468769205,18871904.218591034,12041907.992918814,-19763306.17306725,-16822913.143253725,-12725977.395792559,14702844.573044907,15879447.062933493,17878344.36741383,-19250691.049913306,8238176.652258052,14114409.744711664,-15826770.679890113,-13070077.073783645,16791877.269220557]],[\"pred_mag\",[5.857693314646372,5.891439643237,5.869618330110986,5.921863245148279,5.950561153197301,5.9779100548357045,5.896537288291684,5.90145614727176,5.974961127676247,5.98271040209209,5.913122070470413,5.882998066275542,5.858940518870268,5.8167704594600975,5.915609707184776,5.913573960757205,5.896980118316781,5.986704217225986,5.883495498177628,5.851678851731754,5.9411493835152225,5.8530300382535305,5.913122070470413,5.862544898303362,5.913122070470413,5.990281777000426,5.8867325759338,5.990281777000426,5.932773222383458,5.879089830348427,5.873924607088022,5.880681202752517,5.850403501495991,5.868634845774528,5.919123051218519,5.900601556969785,5.934294043607062,5.886831404694183,5.883174168409093,5.8984782001410725,5.878195765322855,5.883151698006935,5.911604967495333,5.93904926665955,5.87972389827829,5.878067185083201,5.880330752071874,5.867213897976145,5.898155524189802,5.82879102673424,5.828688238027128,5.90546553388509,5.858416468747425,5.830595498113736,5.904512666896475,5.868532738348396,5.8681114605384606,5.967602850252961,5.934210647256565,5.8167704594600975,5.86663654770271,5.87426396803808,5.872291261584094,5.947904735851767,5.867290551584731,5.934294043607062,5.8645760851854405,5.878515808074679,5.888305269821238,5.920270578580189,5.973945435300274,5.879674949605153,5.9350621894616244,5.853176336784925,5.8562222683787155,5.976685946670563,5.96756101863637,5.941778406695244,5.851676987445654,5.868630133471859,5.900464349477651,5.935847934970609,5.933526620546828,5.92520369928655,5.90546553388509,5.933893160998951,5.938731780401937,5.868582717415679,5.869124270482972,5.936422729902011,5.936422729902011,5.893673362178116,5.873985185497906,5.871358648740366,5.849184862592166,5.872208078900266,5.861694260623166,5.992938390388668,5.915533005318397,5.842675908505673,5.940623081525086,5.815666842939905,5.884215111425708,5.961455928806089,5.961455928806089,5.921329423962062,5.8167704594600975,5.978087465893752,5.825652843572227,5.961455928806089,5.921329423962062,5.940589902090729,5.873025718873683,5.941691245006633,5.880069708996103,5.886577164807773,5.886577164807773,5.880069708996103,5.8645192272340205,5.9394564716999145,5.882364232951824,5.953469136980755,5.933526620546828,5.933526620546828,6.019378934393123,5.873839115614632,5.976041599329298,5.91630739440108,6.011605812334006,5.9498160997883875,5.846765355473749,5.9498160997883875,5.806035690460136,5.929872577661564,5.883576257799768,5.877464174363288,5.90408183264654,5.925523829324342,5.889444424658441,5.8770210732099475,5.890485029439918,5.867487511502723,5.882093385200849,5.880681202752517,5.880056053002329,5.815590087235445,5.938663505436327,5.942259163521222,5.859343854869304,5.824511379788527,5.8645760851854405,5.9530163339508695,5.9153865792899465,5.867290551584731,5.889021203096876,5.920270578580189,5.789142442286588,5.8770210732099475,5.878190942134088,5.921329423962062,5.93370112920297,5.98005378870385,5.8770210732099475,5.890485029439918,5.942142494638899,5.846463759515939,5.8167704594600975,5.795004548724501,5.874676288336147,5.869618330110986,5.840025369509724,5.874676288336147,5.912096394769246,5.853785966635348,5.87402660229368,5.857741062210705,5.826599553890839,5.844977456153653,5.8661344606948465,5.934294043607062,5.871810480319507,5.880732285543094,5.862957806272407,5.936851590577085,5.89245187918218,5.89245187918218,5.950561153197301,5.962933369007119,5.888812447163183,5.860293569678145,5.962671990304457,5.8061234886780655,5.888812447163183,5.815666842939905,5.888942290722278,5.869443614214713,5.939305603312311,5.887108005173309,5.851676987445654,5.884215111425708,5.835224967314149,5.954666035052136,5.951080716872831,5.8753796531015565,5.795004548724501,5.847930954681336,5.94066905318632,5.866265521074032,5.919000206316088,5.851676987445654,5.901186096759853,5.958851329674835,5.944598893366848,5.863306693557766,5.951080716872831,5.855109350888087,5.883674007379594,5.851676987445654,5.8746548644246674,5.845821877908813,5.9685660029641765,5.9172344063914135,5.914786507358356,5.880118747267909,5.941981206973407,5.941614946257981,5.941614946257981,5.829476098946248,5.889126938400827,5.8753796531015565,5.888661105205619,5.917504776241214,5.916653763707791,5.8167704594600975,5.862544898303362,5.910851322813547,5.858001424055088,5.939941090177091,5.83519719211362,5.892126745123393,5.9189484561888985,5.857716374797544,5.868532738348396,5.868630133471859,5.947650378286181,5.89986043811453,5.927512953516472,5.91415538397978,5.914661143034616,5.891838080247794,5.891838080247794,5.928946004621327,5.928946004621327,5.873644312391971,5.868630133471859,5.861208120421867,5.928946004621327,5.917782012965544,5.839909134235059,5.891838080247794,5.960848352021472,5.845619436429866,5.961455928806089,5.8770210732099475,5.928946004621327,5.891838080247794,5.892397015390066,5.952641870155352,5.90546553388509,5.918769331092853,5.920010869605259,5.8770210732099475,5.967369724160166,5.891838080247794,5.8770210732099475,5.893673362178116,5.891838080247794,5.919123051218519,5.795858723233775,5.871119577118477,5.879815605132434,5.871358648740366,5.863306693557766,5.875482246897518,5.862633703536163,5.896526886267026,5.858416468747425,5.855381796394902,5.834564499148444,5.867290551584731,5.852695169896048,5.883000829006009,5.839909134235059,5.8407990804318155,5.873187635622071,5.890485029439918,5.858565751901066,5.807990617031049,5.8159530675912885,5.851676987445654,5.899279909387646,5.958851329674835,5.8407990804318155,5.913667891580694,5.87246091620391,5.850901033703378,5.850901033703378,5.850901033703378,5.853176336784925,5.96619282997589,5.868863599077411,5.849457760973005,5.899359899321267,5.899359899321267,5.899359899321267,5.941972356609308,5.957887117251881,5.9842304697282795,5.868863599077411,5.868863599077411,5.866510675252257,5.8770210732099475,5.849457760973005,5.868863599077411,5.857379675042957,5.849184862592166,5.86024455824122,5.868863599077411,5.828688238027128,5.87328569552744,5.828887617029779,5.934585102160729,5.830595498113736,5.8645192272340205,5.92520369928655,5.952641870155352,5.934576496384351,5.842675908505673,5.831285667080065,5.855361697437758,5.846765355473749,5.867347952159924,5.868863599077411,5.857063417939549,5.8796703347546435,5.888883568053549,5.896820247492499,5.972492726801716,5.972492726801716,5.866510675252257,5.868863599077411,5.868863599077411,5.878067185083201,5.868582717415679,5.961262588865116,5.95401271027185,5.973521215576577,5.887108005173309,5.841174244056651,5.829476098946248,5.9421913865256,5.90761884226475,5.8547867604200245,5.87328569552744,5.860781954943791,5.873276683798865,5.86663654770271,5.845821877908813,5.936851590577085,5.812753707919966,5.94262780805018,5.930201067161184,5.938624873351335,5.847102973182337,5.903339115156006,5.847322840353331,5.888262328402143,5.835224967314149,5.91630739440108,5.939691121018608,5.92520369928655,5.873276683798865,5.9407797723449765,5.9842304697282795,5.853176336784925,5.849184862592166,5.795004548724501,5.809997256370097,5.90408183264654,5.882172237142682,5.859673699061514,5.827005894380105,5.827667576015186,5.937963365333189,5.795004548724501,5.8167704594600975,5.870546587146528]],[\"year\",[2017,2017,2017,2017,2017,2017,2017,2017,2017,2017,2017,2017,2017,2017,2017,2017,2017,2017,2017,2017,2017,2017,2017,2017,2017,2017,2017,2017,2017,2017,2017,2017,2017,2017,2017,2017,2017,2017,2017,2017,2017,2017,2017,2017,2017,2017,2017,2017,2017,2017,2017,2017,2017,2017,2017,2017,2017,2017,2017,2017,2017,2017,2017,2017,2017,2017,2017,2017,2017,2017,2017,2017,2017,2017,2017,2017,2017,2017,2017,2017,2017,2017,2017,2017,2017,2017,2017,2017,2017,2017,2017,2017,2017,2017,2017,2017,2017,2017,2017,2017,2017,2017,2017,2017,2017,2017,2017,2017,2017,2017,2017,2017,2017,2017,2017,2017,2017,2017,2017,2017,2017,2017,2017,2017,2017,2017,2017,2017,2017,2017,2017,2017,2017,2017,2017,2017,2017,2017,2017,2017,2017,2017,2017,2017,2017,2017,2017,2017,2017,2017,2017,2017,2017,2017,2017,2017,2017,2017,2017,2017,2017,2017,2017,2017,2017,2017,2017,2017,2017,2017,2017,2017,2017,2017,2017,2017,2017,2017,2017,2017,2017,2017,2017,2017,2017,2017,2017,2017,2017,2017,2017,2017,2017,2017,2017,2017,2017,2017,2017,2017,2017,2017,2017,2017,2017,2017,2017,2017,2017,2017,2017,2017,2017,2017,2017,2017,2017,2017,2017,2017,2017,2017,2017,2017,2017,2017,2017,2017,2017,2017,2017,2017,2017,2017,2017,2017,2017,2017,2017,2017,2017,2017,2017,2017,2017,2017,2017,2017,2017,2017,2017,2017,2017,2017,2017,2017,2017,2017,2017,2017,2017,2017,2017,2017,2017,2017,2017,2017,2017,2017,2017,2017,2017,2017,2017,2017,2017,2017,2017,2017,2017,2017,2017,2017,2017,2017,2017,2017,2017,2017,2017,2017,2017,2017,2017,2017,2017,2017,2017,2017,2017,2017,2017,2017,2017,2017,2017,2017,2017,2017,2017,2017,2017,2017,2017,2017,2017,2017,2017,2017,2017,2017,2017,2017,2017,2017,2017,2017,2017,2017,2017,2017,2017,2017,2017,2017,2017,2017,2017,2017,2017,2017,2017,2017,2017,2017,2017,2017,2017,2017,2017,2017,2017,2017,2017,2017,2017,2017,2017,2017,2017,2017,2017,2017,2017,2017,2017,2017,2017,2017,2017,2017,2017,2017,2017,2017,2017,2017,2017,2017,2017,2017,2017,2017,2017,2017,2017,2017,2017,2017,2017,2017,2017,2017,2017,2017,2017]],[\"pred_mag_s\",[23.43077325858549,23.565758572948,23.478473320443943,23.687452980593115,23.802244612789202,23.911640219342818,23.586149153166737,23.60582458908704,23.899844510704987,23.93084160836836,23.652488281881652,23.53199226510217,23.435762075481072,23.26708183784039,23.662438828739106,23.65429584302882,23.587920473267125,23.946816868903944,23.533981992710512,23.406715406927017,23.76459753406089,23.412120153014122,23.652488281881652,23.45017959321345,23.652488281881652,23.961127108001705,23.5469303037352,23.961127108001705,23.731092889533834,23.516359321393708,23.49569842835209,23.522724811010068,23.401614005983966,23.47453938309811,23.676492204874076,23.60240622787914,23.73717617442825,23.547325618776732,23.532696673636373,23.59391280056429,23.51278306129142,23.53260679202774,23.646419869981333,23.7561970666382,23.51889559311316,23.512268740332804,23.521323008287496,23.46885559190458,23.592622096759207,23.31516410693696,23.314752952108513,23.62186213554036,23.4336658749897,23.322381992454943,23.6180506675859,23.474130953393583,23.472445842153842,23.870411401011843,23.73684258902626,23.26708183784039,23.46654619081084,23.49705587215232,23.489165046336375,23.79161894340707,23.469162206338925,23.73717617442825,23.458304340741762,23.514063232298717,23.553221079284953,23.681082314320754,23.895781741201095,23.518699798420613,23.740248757846498,23.4127053471397,23.424889073514862,23.906743786682252,23.87024407454548,23.767113626780976,23.406707949782614,23.474520533887436,23.601857397910603,23.743391739882437,23.73410648218731,23.7008147971462,23.62186213554036,23.735572643995805,23.754927121607746,23.474330869662715,23.47649708193189,23.745690919608045,23.745690919608045,23.574693448712463,23.495940741991625,23.485434594961465,23.396739450368663,23.488832315601066,23.446777042492663,23.97175356155467,23.66213202127359,23.370703634022693,23.762492326100343,23.26266737175962,23.536860445702832,23.845823715224356,23.845823715224356,23.685317695848248,23.26708183784039,23.91234986357501,23.302611374288908,23.845823715224356,23.685317695848248,23.762359608362917,23.492102875494734,23.766764980026533,23.520278835984413,23.54630865923109,23.54630865923109,23.520278835984413,23.458076908936082,23.757825886799658,23.529456931807296,23.81387654792302,23.73410648218731,23.73410648218731,24.077515737572494,23.495356462458528,23.90416639731719,23.66522957760432,24.046423249336023,23.79926439915355,23.387061421894995,23.79926439915355,23.224142761840543,23.719490310646258,23.53430503119907,23.509856697453152,23.61632733058616,23.702095317297367,23.557777698633764,23.50808429283979,23.561940117759672,23.469950046010894,23.528373540803397,23.522724811010068,23.520224212009317,23.26236034894178,23.754654021745306,23.76903665408489,23.437375419477217,23.29804551915411,23.458304340741762,23.812065335803478,23.661546317159786,23.469162206338925,23.556084812387503,23.681082314320754,23.15656976914635,23.50808429283979,23.512763768536352,23.685317695848248,23.73480451681188,23.9202151548154,23.50808429283979,23.561940117759672,23.768569978555597,23.385855038063756,23.26708183784039,23.180018194898004,23.498705153344588,23.478473320443943,23.360101478038896,23.498705153344588,23.648385579076983,23.415143866541392,23.49610640917472,23.43096424884282,23.306398215563355,23.37990982461461,23.464537842779386,23.73717617442825,23.487241921278027,23.522929142172377,23.451831225089627,23.74740636230834,23.56980751672872,23.56980751672872,23.802244612789202,23.851733476028475,23.55524978865273,23.44117427871258,23.85068796121783,23.224493954712262,23.55524978865273,23.26266737175962,23.555769162889113,23.477774456858853,23.757222413249245,23.548432020693237,23.406707949782614,23.536860445702832,23.340899869256596,23.818664140208544,23.804322867491322,23.501518612406226,23.180018194898004,23.391723818725342,23.76267621274528,23.46506208429613,23.676000825264353,23.406707949782614,23.60474438703941,23.83540531869934,23.778395573467392,23.453226774231062,23.804322867491322,23.42043740355235,23.534696029518376,23.406707949782614,23.49861945769867,23.383287511635253,23.874264011856706,23.668937625565654,23.659146029433423,23.520474989071637,23.767924827893626,23.766459785031923,23.766459785031923,23.317904395784993,23.55650775360331,23.501518612406226,23.554644420822477,23.670019104964855,23.666615054831166,23.26708183784039,23.45017959321345,23.643405291254187,23.43200569622035,23.759764360708363,23.34078876845448,23.568506980493574,23.675793824755594,23.430865499190176,23.474130953393583,23.474520533887436,23.790601513144725,23.59944175245812,23.71005181406589,23.65662153591912,23.658644572138464,23.567352320991176,23.567352320991176,23.71578401848531,23.71578401848531,23.494577249567882,23.474520533887436,23.444832481687467,23.71578401848531,23.671128051862176,23.359636536940236,23.567352320991176,23.843393408085888,23.382477745719463,23.845823715224356,23.50808429283979,23.71578401848531,23.567352320991176,23.569588061560264,23.81056748062141,23.62186213554036,23.67507732437141,23.680043478421037,23.50808429283979,23.869478896640665,23.567352320991176,23.50808429283979,23.574693448712463,23.567352320991176,23.676492204874076,23.1834348929351,23.484478308473907,23.519262420529735,23.485434594961465,23.453226774231062,23.501928987590073,23.450534814144653,23.586107545068103,23.4336658749897,23.42152718557961,23.338257996593775,23.469162206338925,23.410780679584192,23.532003316024035,23.359636536940236,23.363196321727262,23.492750542488285,23.561940117759672,23.434263007604265,23.231962468124195,23.263812270365154,23.406707949782614,23.597119637550584,23.83540531869934,23.363196321727262,23.654671566322776,23.48984366481564,23.403604134813513,23.403604134813513,23.403604134813513,23.4127053471397,23.86477131990356,23.475454396309644,23.39783104389202,23.597439597285067,23.597439597285067,23.597439597285067,23.767889426437232,23.831548469007522,23.936921878913118,23.475454396309644,23.475454396309644,23.466042701009027,23.50808429283979,23.39783104389202,23.475454396309644,23.42951870017183,23.396739450368663,23.44097823296488,23.475454396309644,23.314752952108513,23.49314278210976,23.315550468119117,23.738340408642916,23.322381992454943,23.458076908936082,23.7008147971462,23.81056748062141,23.738305985537405,23.370703634022693,23.32514266832026,23.42144678975103,23.387061421894995,23.469391808639696,23.475454396309644,23.428253671758196,23.518681339018574,23.555534272214196,23.587280989969997,23.889970907206862,23.889970907206862,23.466042701009027,23.475454396309644,23.475454396309644,23.512268740332804,23.474330869662715,23.845050355460465,23.8160508410874,23.894084862306308,23.548432020693237,23.364696976226604,23.317904395784993,23.7687655461024,23.630475369059,23.419147041680098,23.49314278210976,23.443127819775164,23.49310673519546,23.46654619081084,23.383287511635253,23.74740636230834,23.251014831679864,23.77051123220072,23.720804268644734,23.75449949340534,23.388411892729348,23.613356460624026,23.389291361413324,23.55304931360857,23.340899869256596,23.66522957760432,23.758764484074433,23.7008147971462,23.49310673519546,23.763119089379906,23.936921878913118,23.4127053471397,23.396739450368663,23.180018194898004,23.239989025480387,23.61632733058616,23.52868894857073,23.438694796246057,23.30802357752042,23.310670304060743,23.751853461332757,23.180018194898004,23.26708183784039,23.48218634858611]]]}}},\"view\":{\"type\":\"object\",\"name\":\"CDSView\",\"id\":\"p6318\",\"attributes\":{\"filter\":{\"type\":\"object\",\"name\":\"AllIndices\",\"id\":\"p6319\"}}},\"glyph\":{\"type\":\"object\",\"name\":\"Circle\",\"id\":\"p6314\",\"attributes\":{\"x\":{\"type\":\"field\",\"field\":\"pred_lon\"},\"y\":{\"type\":\"field\",\"field\":\"pred_lat\"},\"size\":{\"type\":\"field\",\"field\":\"pred_mag_s\"},\"line_color\":{\"type\":\"value\",\"value\":\"#1f77b4\"},\"fill_color\":{\"type\":\"value\",\"value\":\"#ccff33\"},\"fill_alpha\":{\"type\":\"value\",\"value\":7.0}}},\"nonselection_glyph\":{\"type\":\"object\",\"name\":\"Circle\",\"id\":\"p6315\",\"attributes\":{\"x\":{\"type\":\"field\",\"field\":\"pred_lon\"},\"y\":{\"type\":\"field\",\"field\":\"pred_lat\"},\"size\":{\"type\":\"field\",\"field\":\"pred_mag_s\"},\"line_color\":{\"type\":\"value\",\"value\":\"#1f77b4\"},\"line_alpha\":{\"type\":\"value\",\"value\":0.1},\"fill_color\":{\"type\":\"value\",\"value\":\"#ccff33\"},\"fill_alpha\":{\"type\":\"value\",\"value\":0.1},\"hatch_alpha\":{\"type\":\"value\",\"value\":0.1}}},\"muted_glyph\":{\"type\":\"object\",\"name\":\"Circle\",\"id\":\"p6316\",\"attributes\":{\"x\":{\"type\":\"field\",\"field\":\"pred_lon\"},\"y\":{\"type\":\"field\",\"field\":\"pred_lat\"},\"size\":{\"type\":\"field\",\"field\":\"pred_mag_s\"},\"line_color\":{\"type\":\"value\",\"value\":\"#1f77b4\"},\"line_alpha\":{\"type\":\"value\",\"value\":0.2},\"fill_color\":{\"type\":\"value\",\"value\":\"#ccff33\"},\"fill_alpha\":{\"type\":\"value\",\"value\":0.2},\"hatch_alpha\":{\"type\":\"value\",\"value\":0.2}}}}},{\"type\":\"object\",\"name\":\"TileRenderer\",\"id\":\"p6322\",\"attributes\":{\"tile_source\":{\"type\":\"object\",\"name\":\"WMTSTileSource\",\"id\":\"p6321\",\"attributes\":{\"url\":\"https://a.basemaps.cartocdn.com/light_all/{z}/{x}/{y}.png\",\"max_zoom\":20,\"attribution\":\"&copy; <a href=\\\"https://www.openstreetmap.org/copyright\\\">OpenStreetMap</a> contributors &copy; <a href=\\\"https://carto.com/attributions\\\">CARTO</a>\"}}}}],\"toolbar\":{\"type\":\"object\",\"name\":\"Toolbar\",\"id\":\"p6277\",\"attributes\":{\"tools\":[{\"id\":\"p6292\"},{\"id\":\"p6293\"},{\"id\":\"p6294\"},{\"type\":\"object\",\"name\":\"SaveTool\",\"id\":\"p6296\"},{\"id\":\"p6297\"},{\"id\":\"p6298\"},{\"id\":\"p6299\"}]}},\"toolbar_location\":null,\"left\":[{\"type\":\"object\",\"name\":\"LinearAxis\",\"id\":\"p6287\",\"attributes\":{\"visible\":false,\"ticker\":{\"type\":\"object\",\"name\":\"BasicTicker\",\"id\":\"p6288\",\"attributes\":{\"mantissas\":[1,2,5]}},\"formatter\":{\"type\":\"object\",\"name\":\"BasicTickFormatter\",\"id\":\"p6289\"},\"axis_label_standoff\":10,\"axis_label_text_color\":\"#E0E0E0\",\"axis_label_text_font\":\"Helvetica\",\"axis_label_text_font_size\":\"1.25em\",\"axis_label_text_font_style\":\"normal\",\"major_label_policy\":{\"type\":\"object\",\"name\":\"AllLabels\",\"id\":\"p6290\"},\"major_label_text_color\":\"#E0E0E0\",\"major_label_text_font\":\"Helvetica\",\"major_label_text_font_size\":\"1.025em\",\"axis_line_color\":\"#E0E0E0\",\"axis_line_alpha\":0,\"major_tick_line_color\":\"#E0E0E0\",\"major_tick_line_alpha\":0,\"minor_tick_line_color\":\"#E0E0E0\",\"minor_tick_line_alpha\":0}}],\"below\":[{\"type\":\"object\",\"name\":\"LinearAxis\",\"id\":\"p6282\",\"attributes\":{\"visible\":false,\"ticker\":{\"type\":\"object\",\"name\":\"BasicTicker\",\"id\":\"p6283\",\"attributes\":{\"mantissas\":[1,2,5]}},\"formatter\":{\"type\":\"object\",\"name\":\"BasicTickFormatter\",\"id\":\"p6284\"},\"axis_label_standoff\":10,\"axis_label_text_color\":\"#E0E0E0\",\"axis_label_text_font\":\"Helvetica\",\"axis_label_text_font_size\":\"1.25em\",\"axis_label_text_font_style\":\"normal\",\"major_label_policy\":{\"type\":\"object\",\"name\":\"AllLabels\",\"id\":\"p6285\"},\"major_label_text_color\":\"#E0E0E0\",\"major_label_text_font\":\"Helvetica\",\"major_label_text_font_size\":\"1.025em\",\"axis_line_color\":\"#E0E0E0\",\"axis_line_alpha\":0,\"major_tick_line_color\":\"#E0E0E0\",\"major_tick_line_alpha\":0,\"minor_tick_line_color\":\"#E0E0E0\",\"minor_tick_line_alpha\":0}}],\"center\":[{\"type\":\"object\",\"name\":\"Grid\",\"id\":\"p6286\",\"attributes\":{\"axis\":{\"id\":\"p6282\"},\"grid_line_color\":null,\"grid_line_alpha\":0.25}},{\"type\":\"object\",\"name\":\"Grid\",\"id\":\"p6291\",\"attributes\":{\"dimension\":1,\"axis\":{\"id\":\"p6287\"},\"grid_line_color\":null,\"grid_line_alpha\":0.25}},{\"type\":\"object\",\"name\":\"Legend\",\"id\":\"p6309\",\"attributes\":{\"location\":\"bottom_right\",\"border_line_alpha\":0,\"background_fill_color\":\"black\",\"background_fill_alpha\":0.8,\"click_policy\":\"hide\",\"label_text_color\":\"white\",\"label_text_font\":\"Helvetica\",\"label_text_font_size\":\"1.025em\",\"label_standoff\":8,\"glyph_width\":15,\"spacing\":8,\"items\":[{\"type\":\"object\",\"name\":\"LegendItem\",\"id\":\"p6310\",\"attributes\":{\"label\":{\"type\":\"value\",\"value\":\"Quakes 2016\"},\"renderers\":[{\"id\":\"p6306\"}]}},{\"type\":\"object\",\"name\":\"LegendItem\",\"id\":\"p6320\",\"attributes\":{\"label\":{\"type\":\"value\",\"value\":\"Quakes 2017\"},\"renderers\":[{\"id\":\"p6317\"}]}}]}}],\"background_fill_color\":\"#20262B\",\"border_fill_color\":\"#15191C\"}},0,0],[{\"type\":\"object\",\"name\":\"Figure\",\"id\":\"p6327\",\"attributes\":{\"width\":1150,\"height\":400,\"sizing_mode\":\"scale_width\",\"x_range\":{\"type\":\"object\",\"name\":\"DataRange1d\",\"id\":\"p6329\"},\"y_range\":{\"type\":\"object\",\"name\":\"Range1d\",\"id\":\"p6337\",\"attributes\":{\"start\":5,\"end\":10.1}},\"x_scale\":{\"type\":\"object\",\"name\":\"LinearScale\",\"id\":\"p6338\"},\"y_scale\":{\"type\":\"object\",\"name\":\"LinearScale\",\"id\":\"p6339\"},\"title\":{\"type\":\"object\",\"name\":\"Title\",\"id\":\"p6330\",\"attributes\":{\"text\":\"Maximum and Average Magnitude by Year\",\"text_color\":\"#E0E0E0\",\"text_font\":\"serif\",\"text_font_size\":\"20pt\",\"align\":\"center\"}},\"outline_line_color\":\"#E0E0E0\",\"outline_line_alpha\":0.25,\"renderers\":[{\"type\":\"object\",\"name\":\"GlyphRenderer\",\"id\":\"p6364\",\"attributes\":{\"data_source\":{\"type\":\"object\",\"name\":\"ColumnDataSource\",\"id\":\"p6324\",\"attributes\":{\"selected\":{\"type\":\"object\",\"name\":\"Selection\",\"id\":\"p6325\",\"attributes\":{\"indices\":[],\"line_indices\":[]}},\"selection_policy\":{\"type\":\"object\",\"name\":\"UnionRenderers\",\"id\":\"p6326\"},\"data\":{\"type\":\"map\",\"entries\":[[\"yrs\",[1965,1966,1967,1968,1969,1970,1971,1972,1973,1974,1975,1976,1977,1978,1979,1980,1981,1982,1983,1984,1985,1986,1987,1988,1989,1990,1991,1992,1993,1994,1995,1996,1997,1998,1999,2000,2001,2002,2003,2004,2005,2006,2007,2008,2009,2010,2011,2012,2013,2014,2015,2016]],[\"avg_mag\",[5.858163265306125,5.84866666666667,5.757432432432437,5.850802139037435,5.89099526066351,5.890476190476194,5.842857142857147,5.838068181818182,5.82215189873418,5.861386138613864,5.926020408163269,5.846448087431697,5.867441860465114,6.070754716981133,5.916666666666668,5.833611111111111,5.788983050847464,5.986486486486491,6.060714285714285,5.8704845814978,5.872023809523812,5.9621359223300985,6.015789473684214,5.8251851851851875,5.835593220338986,5.880578512396693,5.851948051948055,6.009615384615388,5.896476190476193,6.019718309859159,5.8884615384615415,5.928638497652586,5.8885964912280695,5.888048780487807,5.9004878048780505,5.8435000000000015,5.885350318471342,5.931460674157305,5.861421052631582,5.868361581920908,5.850869565217394,5.849068322981371,5.899530516431923,5.83931623931624,5.92170616113744,5.812000000000003,5.882499999999996,5.785260115606937,5.914953271028041,5.881411764705888,5.87857142857143,5.907106598984773]],[\"max_mag\",[7.6,7.8,7.6,7.6,8.4,7.6,7.5,8.0,7.7,8.0,7.8,7.8,8.3,7.6,8.2,7.4,7.9,7.8,7.7,7.5,7.1,7.2,7.5,7.1,7.4,7.9,7.5,8.7,8.0,7.4,8.6,7.6,7.8,7.8,8.0,7.5,7.6,8.0,7.8,7.4,7.6,7.6,7.9,7.7,7.8,8.0,9.1,7.5,7.9,7.4,7.9,7.8]]]}}},\"view\":{\"type\":\"object\",\"name\":\"CDSView\",\"id\":\"p6365\",\"attributes\":{\"filter\":{\"type\":\"object\",\"name\":\"AllIndices\",\"id\":\"p6366\"}}},\"glyph\":{\"type\":\"object\",\"name\":\"Line\",\"id\":\"p6361\",\"attributes\":{\"x\":{\"type\":\"field\",\"field\":\"yrs\"},\"y\":{\"type\":\"field\",\"field\":\"max_mag\"},\"line_color\":\"#cc0000\",\"line_width\":2}},\"nonselection_glyph\":{\"type\":\"object\",\"name\":\"Line\",\"id\":\"p6362\",\"attributes\":{\"x\":{\"type\":\"field\",\"field\":\"yrs\"},\"y\":{\"type\":\"field\",\"field\":\"max_mag\"},\"line_color\":\"#cc0000\",\"line_alpha\":0.1,\"line_width\":2}},\"muted_glyph\":{\"type\":\"object\",\"name\":\"Line\",\"id\":\"p6363\",\"attributes\":{\"x\":{\"type\":\"field\",\"field\":\"yrs\"},\"y\":{\"type\":\"field\",\"field\":\"max_mag\"},\"line_color\":\"#cc0000\",\"line_alpha\":0.2,\"line_width\":2}}}},{\"type\":\"object\",\"name\":\"GlyphRenderer\",\"id\":\"p6375\",\"attributes\":{\"data_source\":{\"id\":\"p6324\"},\"view\":{\"type\":\"object\",\"name\":\"CDSView\",\"id\":\"p6376\",\"attributes\":{\"filter\":{\"type\":\"object\",\"name\":\"AllIndices\",\"id\":\"p6377\"}}},\"glyph\":{\"type\":\"object\",\"name\":\"Circle\",\"id\":\"p6372\",\"attributes\":{\"x\":{\"type\":\"field\",\"field\":\"yrs\"},\"y\":{\"type\":\"field\",\"field\":\"max_mag\"},\"size\":{\"type\":\"value\",\"value\":8},\"line_color\":{\"type\":\"value\",\"value\":\"#cc0000\"},\"fill_color\":{\"type\":\"value\",\"value\":\"#cc0000\"},\"hatch_color\":{\"type\":\"value\",\"value\":\"#cc0000\"}}},\"nonselection_glyph\":{\"type\":\"object\",\"name\":\"Circle\",\"id\":\"p6373\",\"attributes\":{\"x\":{\"type\":\"field\",\"field\":\"yrs\"},\"y\":{\"type\":\"field\",\"field\":\"max_mag\"},\"size\":{\"type\":\"value\",\"value\":8},\"line_color\":{\"type\":\"value\",\"value\":\"#cc0000\"},\"line_alpha\":{\"type\":\"value\",\"value\":0.1},\"fill_color\":{\"type\":\"value\",\"value\":\"#cc0000\"},\"fill_alpha\":{\"type\":\"value\",\"value\":0.1},\"hatch_color\":{\"type\":\"value\",\"value\":\"#cc0000\"},\"hatch_alpha\":{\"type\":\"value\",\"value\":0.1}}},\"muted_glyph\":{\"type\":\"object\",\"name\":\"Circle\",\"id\":\"p6374\",\"attributes\":{\"x\":{\"type\":\"field\",\"field\":\"yrs\"},\"y\":{\"type\":\"field\",\"field\":\"max_mag\"},\"size\":{\"type\":\"value\",\"value\":8},\"line_color\":{\"type\":\"value\",\"value\":\"#cc0000\"},\"line_alpha\":{\"type\":\"value\",\"value\":0.2},\"fill_color\":{\"type\":\"value\",\"value\":\"#cc0000\"},\"fill_alpha\":{\"type\":\"value\",\"value\":0.2},\"hatch_color\":{\"type\":\"value\",\"value\":\"#cc0000\"},\"hatch_alpha\":{\"type\":\"value\",\"value\":0.2}}}}},{\"type\":\"object\",\"name\":\"GlyphRenderer\",\"id\":\"p6384\",\"attributes\":{\"data_source\":{\"id\":\"p6324\"},\"view\":{\"type\":\"object\",\"name\":\"CDSView\",\"id\":\"p6385\",\"attributes\":{\"filter\":{\"type\":\"object\",\"name\":\"AllIndices\",\"id\":\"p6386\"}}},\"glyph\":{\"type\":\"object\",\"name\":\"Line\",\"id\":\"p6381\",\"attributes\":{\"x\":{\"type\":\"field\",\"field\":\"yrs\"},\"y\":{\"type\":\"field\",\"field\":\"avg_mag\"},\"line_color\":\"yellow\",\"line_width\":2}},\"nonselection_glyph\":{\"type\":\"object\",\"name\":\"Line\",\"id\":\"p6382\",\"attributes\":{\"x\":{\"type\":\"field\",\"field\":\"yrs\"},\"y\":{\"type\":\"field\",\"field\":\"avg_mag\"},\"line_color\":\"yellow\",\"line_alpha\":0.1,\"line_width\":2}},\"muted_glyph\":{\"type\":\"object\",\"name\":\"Line\",\"id\":\"p6383\",\"attributes\":{\"x\":{\"type\":\"field\",\"field\":\"yrs\"},\"y\":{\"type\":\"field\",\"field\":\"avg_mag\"},\"line_color\":\"yellow\",\"line_alpha\":0.2,\"line_width\":2}}}},{\"type\":\"object\",\"name\":\"GlyphRenderer\",\"id\":\"p6394\",\"attributes\":{\"data_source\":{\"id\":\"p6324\"},\"view\":{\"type\":\"object\",\"name\":\"CDSView\",\"id\":\"p6395\",\"attributes\":{\"filter\":{\"type\":\"object\",\"name\":\"AllIndices\",\"id\":\"p6396\"}}},\"glyph\":{\"type\":\"object\",\"name\":\"Circle\",\"id\":\"p6391\",\"attributes\":{\"x\":{\"type\":\"field\",\"field\":\"yrs\"},\"y\":{\"type\":\"field\",\"field\":\"avg_mag\"},\"size\":{\"type\":\"value\",\"value\":8},\"line_color\":{\"type\":\"value\",\"value\":\"yellow\"},\"fill_color\":{\"type\":\"value\",\"value\":\"yellow\"},\"hatch_color\":{\"type\":\"value\",\"value\":\"yellow\"}}},\"nonselection_glyph\":{\"type\":\"object\",\"name\":\"Circle\",\"id\":\"p6392\",\"attributes\":{\"x\":{\"type\":\"field\",\"field\":\"yrs\"},\"y\":{\"type\":\"field\",\"field\":\"avg_mag\"},\"size\":{\"type\":\"value\",\"value\":8},\"line_color\":{\"type\":\"value\",\"value\":\"yellow\"},\"line_alpha\":{\"type\":\"value\",\"value\":0.1},\"fill_color\":{\"type\":\"value\",\"value\":\"yellow\"},\"fill_alpha\":{\"type\":\"value\",\"value\":0.1},\"hatch_color\":{\"type\":\"value\",\"value\":\"yellow\"},\"hatch_alpha\":{\"type\":\"value\",\"value\":0.1}}},\"muted_glyph\":{\"type\":\"object\",\"name\":\"Circle\",\"id\":\"p6393\",\"attributes\":{\"x\":{\"type\":\"field\",\"field\":\"yrs\"},\"y\":{\"type\":\"field\",\"field\":\"avg_mag\"},\"size\":{\"type\":\"value\",\"value\":8},\"line_color\":{\"type\":\"value\",\"value\":\"yellow\"},\"line_alpha\":{\"type\":\"value\",\"value\":0.2},\"fill_color\":{\"type\":\"value\",\"value\":\"yellow\"},\"fill_alpha\":{\"type\":\"value\",\"value\":0.2},\"hatch_color\":{\"type\":\"value\",\"value\":\"yellow\"},\"hatch_alpha\":{\"type\":\"value\",\"value\":0.2}}}}}],\"toolbar\":{\"type\":\"object\",\"name\":\"Toolbar\",\"id\":\"p6336\",\"attributes\":{\"tools\":[{\"id\":\"p6350\"},{\"id\":\"p6351\"},{\"id\":\"p6352\"},{\"type\":\"object\",\"name\":\"SaveTool\",\"id\":\"p6354\"},{\"id\":\"p6355\"},{\"id\":\"p6356\"},{\"id\":\"p6357\"}]}},\"toolbar_location\":null,\"left\":[{\"type\":\"object\",\"name\":\"LinearAxis\",\"id\":\"p6345\",\"attributes\":{\"ticker\":{\"type\":\"object\",\"name\":\"BasicTicker\",\"id\":\"p6346\",\"attributes\":{\"mantissas\":[1,2,5]}},\"formatter\":{\"type\":\"object\",\"name\":\"BasicTickFormatter\",\"id\":\"p6347\"},\"axis_label\":\"Magnitude\",\"axis_label_standoff\":10,\"axis_label_text_color\":\"#E0E0E0\",\"axis_label_text_font\":\"Helvetica\",\"axis_label_text_font_size\":\"14pt\",\"axis_label_text_font_style\":\"bold\",\"major_label_policy\":{\"type\":\"object\",\"name\":\"AllLabels\",\"id\":\"p6348\"},\"major_label_text_color\":\"#E0E0E0\",\"major_label_text_font\":\"Helvetica\",\"major_label_text_font_size\":\"12pt\",\"axis_line_color\":\"#E0E0E0\",\"axis_line_alpha\":0,\"major_tick_line_color\":\"#E0E0E0\",\"major_tick_line_alpha\":0,\"minor_tick_line_color\":\"#E0E0E0\",\"minor_tick_line_alpha\":0}}],\"below\":[{\"type\":\"object\",\"name\":\"LinearAxis\",\"id\":\"p6340\",\"attributes\":{\"ticker\":{\"type\":\"object\",\"name\":\"BasicTicker\",\"id\":\"p6341\",\"attributes\":{\"num_minor_ticks\":2,\"mantissas\":[1,2,5]}},\"formatter\":{\"type\":\"object\",\"name\":\"BasicTickFormatter\",\"id\":\"p6342\"},\"axis_label\":\"Years\",\"axis_label_standoff\":10,\"axis_label_text_color\":\"#E0E0E0\",\"axis_label_text_font\":\"Helvetica\",\"axis_label_text_font_size\":\"14pt\",\"axis_label_text_font_style\":\"bold\",\"major_label_policy\":{\"type\":\"object\",\"name\":\"AllLabels\",\"id\":\"p6343\"},\"major_label_text_color\":\"#E0E0E0\",\"major_label_text_font\":\"Helvetica\",\"major_label_text_font_size\":\"12pt\",\"axis_line_color\":\"#E0E0E0\",\"axis_line_alpha\":0,\"major_tick_line_color\":\"#E0E0E0\",\"major_tick_line_alpha\":0,\"minor_tick_line_color\":\"#E0E0E0\",\"minor_tick_line_alpha\":0}}],\"center\":[{\"type\":\"object\",\"name\":\"Grid\",\"id\":\"p6344\",\"attributes\":{\"axis\":{\"id\":\"p6340\"},\"grid_line_color\":\"#E0E0E0\",\"grid_line_alpha\":0.25}},{\"type\":\"object\",\"name\":\"Grid\",\"id\":\"p6349\",\"attributes\":{\"dimension\":1,\"axis\":{\"id\":\"p6345\"},\"grid_line_color\":\"#E0E0E0\",\"grid_line_alpha\":0.25}},{\"type\":\"object\",\"name\":\"Legend\",\"id\":\"p6367\",\"attributes\":{\"location\":\"top_left\",\"border_line_alpha\":0,\"background_fill_color\":\"#20262B\",\"background_fill_alpha\":0.25,\"label_text_color\":\"#E0E0E0\",\"label_text_font\":\"Helvetica\",\"label_text_font_size\":\"1.025em\",\"label_standoff\":8,\"glyph_width\":15,\"spacing\":8,\"items\":[{\"type\":\"object\",\"name\":\"LegendItem\",\"id\":\"p6368\",\"attributes\":{\"label\":{\"type\":\"value\",\"value\":\"Max Magnitude\"},\"renderers\":[{\"id\":\"p6364\"}]}},{\"type\":\"object\",\"name\":\"LegendItem\",\"id\":\"p6387\",\"attributes\":{\"label\":{\"type\":\"value\",\"value\":\"Avg Magnitude\"},\"renderers\":[{\"id\":\"p6384\"}]}}]}}],\"background_fill_color\":\"#20262B\",\"border_fill_color\":\"#15191C\"}},1,0],[{\"type\":\"object\",\"name\":\"Figure\",\"id\":\"p6400\",\"attributes\":{\"width\":1150,\"height\":400,\"sizing_mode\":\"scale_width\",\"x_range\":{\"type\":\"object\",\"name\":\"DataRange1d\",\"id\":\"p6402\"},\"y_range\":{\"type\":\"object\",\"name\":\"Range1d\",\"id\":\"p6410\",\"attributes\":{\"end\":460}},\"x_scale\":{\"type\":\"object\",\"name\":\"LinearScale\",\"id\":\"p6411\"},\"y_scale\":{\"type\":\"object\",\"name\":\"LinearScale\",\"id\":\"p6412\"},\"title\":{\"type\":\"object\",\"name\":\"Title\",\"id\":\"p6403\",\"attributes\":{\"text\":\"Frequency of Earthquakes by Year\",\"text_color\":\"#E0E0E0\",\"text_font\":\"serif\",\"text_font_size\":\"20pt\",\"align\":\"center\"}},\"outline_line_color\":\"#E0E0E0\",\"outline_line_alpha\":0.25,\"renderers\":[{\"type\":\"object\",\"name\":\"GlyphRenderer\",\"id\":\"p6437\",\"attributes\":{\"data_source\":{\"type\":\"object\",\"name\":\"ColumnDataSource\",\"id\":\"p6397\",\"attributes\":{\"selected\":{\"type\":\"object\",\"name\":\"Selection\",\"id\":\"p6398\",\"attributes\":{\"indices\":[],\"line_indices\":[]}},\"selection_policy\":{\"type\":\"object\",\"name\":\"UnionRenderers\",\"id\":\"p6399\"},\"data\":{\"type\":\"map\",\"entries\":[[\"yrs\",[1990,1975,1977,2003,2007,1974,2015,2006,1978,2013,1988,1997,1994,1968,2014,1973,1979,1971,1966,2004,1991,1967,1969,1982,1989,1996,1998,1965,1985,1970,2012,1987,2009,2016,1995,1980,2001,1972,1992,1983,2005,1984,2000,1981,2010,1986,2011,1976,2008,1999,2002,1993]],[\"numQuakes\",[196,150,148,187,211,147,175,176,158,202,196,183,215,106,198,144,118,148,98,227,168,103,114,135,177,242,154,156,210,142,182,213,228,164,205,120,157,178,190,177,230,161,213,117,211,175,360,173,214,170,182,197]]]}}},\"view\":{\"type\":\"object\",\"name\":\"CDSView\",\"id\":\"p6438\",\"attributes\":{\"filter\":{\"type\":\"object\",\"name\":\"AllIndices\",\"id\":\"p6439\"}}},\"glyph\":{\"type\":\"object\",\"name\":\"VBar\",\"id\":\"p6434\",\"attributes\":{\"x\":{\"type\":\"field\",\"field\":\"yrs\"},\"width\":{\"type\":\"value\",\"value\":0.75},\"top\":{\"type\":\"field\",\"field\":\"numQuakes\"},\"line_color\":{\"type\":\"value\",\"value\":\"#cc0000\"},\"fill_color\":{\"type\":\"value\",\"value\":\"#cc0000\"},\"hatch_color\":{\"type\":\"value\",\"value\":\"#cc0000\"}}},\"nonselection_glyph\":{\"type\":\"object\",\"name\":\"VBar\",\"id\":\"p6435\",\"attributes\":{\"x\":{\"type\":\"field\",\"field\":\"yrs\"},\"width\":{\"type\":\"value\",\"value\":0.75},\"top\":{\"type\":\"field\",\"field\":\"numQuakes\"},\"line_color\":{\"type\":\"value\",\"value\":\"#cc0000\"},\"line_alpha\":{\"type\":\"value\",\"value\":0.1},\"fill_color\":{\"type\":\"value\",\"value\":\"#cc0000\"},\"fill_alpha\":{\"type\":\"value\",\"value\":0.1},\"hatch_color\":{\"type\":\"value\",\"value\":\"#cc0000\"},\"hatch_alpha\":{\"type\":\"value\",\"value\":0.1}}},\"muted_glyph\":{\"type\":\"object\",\"name\":\"VBar\",\"id\":\"p6436\",\"attributes\":{\"x\":{\"type\":\"field\",\"field\":\"yrs\"},\"width\":{\"type\":\"value\",\"value\":0.75},\"top\":{\"type\":\"field\",\"field\":\"numQuakes\"},\"line_color\":{\"type\":\"value\",\"value\":\"#cc0000\"},\"line_alpha\":{\"type\":\"value\",\"value\":0.2},\"fill_color\":{\"type\":\"value\",\"value\":\"#cc0000\"},\"fill_alpha\":{\"type\":\"value\",\"value\":0.2},\"hatch_color\":{\"type\":\"value\",\"value\":\"#cc0000\"},\"hatch_alpha\":{\"type\":\"value\",\"value\":0.2}}}}}],\"toolbar\":{\"type\":\"object\",\"name\":\"Toolbar\",\"id\":\"p6409\",\"attributes\":{\"tools\":[{\"id\":\"p6423\"},{\"id\":\"p6424\"},{\"id\":\"p6425\"},{\"type\":\"object\",\"name\":\"SaveTool\",\"id\":\"p6427\"},{\"id\":\"p6428\"},{\"id\":\"p6429\"},{\"id\":\"p6430\"}]}},\"toolbar_location\":null,\"left\":[{\"type\":\"object\",\"name\":\"LinearAxis\",\"id\":\"p6418\",\"attributes\":{\"ticker\":{\"type\":\"object\",\"name\":\"BasicTicker\",\"id\":\"p6419\",\"attributes\":{\"mantissas\":[1,2,5]}},\"formatter\":{\"type\":\"object\",\"name\":\"BasicTickFormatter\",\"id\":\"p6420\"},\"axis_label\":\"Number of Occurances\",\"axis_label_standoff\":10,\"axis_label_text_color\":\"#E0E0E0\",\"axis_label_text_font\":\"Helvetica\",\"axis_label_text_font_size\":\"14pt\",\"axis_label_text_font_style\":\"bold\",\"major_label_policy\":{\"type\":\"object\",\"name\":\"AllLabels\",\"id\":\"p6421\"},\"major_label_text_color\":\"#E0E0E0\",\"major_label_text_font\":\"Helvetica\",\"major_label_text_font_size\":\"12pt\",\"axis_line_color\":\"#E0E0E0\",\"axis_line_alpha\":0,\"major_tick_line_color\":\"#E0E0E0\",\"major_tick_line_alpha\":0,\"minor_tick_line_color\":\"#E0E0E0\",\"minor_tick_line_alpha\":0}}],\"below\":[{\"type\":\"object\",\"name\":\"LinearAxis\",\"id\":\"p6413\",\"attributes\":{\"ticker\":{\"type\":\"object\",\"name\":\"BasicTicker\",\"id\":\"p6414\",\"attributes\":{\"num_minor_ticks\":2,\"mantissas\":[1,2,5]}},\"formatter\":{\"type\":\"object\",\"name\":\"BasicTickFormatter\",\"id\":\"p6415\"},\"axis_label\":\"Year\",\"axis_label_standoff\":10,\"axis_label_text_color\":\"#E0E0E0\",\"axis_label_text_font\":\"Helvetica\",\"axis_label_text_font_size\":\"14pt\",\"axis_label_text_font_style\":\"bold\",\"major_label_policy\":{\"type\":\"object\",\"name\":\"AllLabels\",\"id\":\"p6416\"},\"major_label_text_color\":\"#E0E0E0\",\"major_label_text_font\":\"Helvetica\",\"major_label_text_font_size\":\"12pt\",\"axis_line_color\":\"#E0E0E0\",\"axis_line_alpha\":0,\"major_tick_line_color\":\"#E0E0E0\",\"major_tick_line_alpha\":0,\"minor_tick_line_color\":\"#E0E0E0\",\"minor_tick_line_alpha\":0}}],\"center\":[{\"type\":\"object\",\"name\":\"Grid\",\"id\":\"p6417\",\"attributes\":{\"axis\":{\"id\":\"p6413\"},\"grid_line_color\":\"#E0E0E0\",\"grid_line_alpha\":0.25}},{\"type\":\"object\",\"name\":\"Grid\",\"id\":\"p6422\",\"attributes\":{\"dimension\":1,\"axis\":{\"id\":\"p6418\"},\"grid_line_color\":\"#E0E0E0\",\"grid_line_alpha\":0.25}},{\"type\":\"object\",\"name\":\"Legend\",\"id\":\"p6440\",\"attributes\":{\"location\":\"top_left\",\"border_line_alpha\":0,\"background_fill_color\":\"#20262B\",\"background_fill_alpha\":0.25,\"label_text_color\":\"#E0E0E0\",\"label_text_font\":\"Helvetica\",\"label_text_font_size\":\"1.025em\",\"label_standoff\":8,\"glyph_width\":15,\"spacing\":8,\"items\":[{\"type\":\"object\",\"name\":\"LegendItem\",\"id\":\"p6441\",\"attributes\":{\"label\":{\"type\":\"value\",\"value\":\"Year\"},\"renderers\":[{\"id\":\"p6437\"}]}}]}}],\"background_fill_color\":\"#20262B\",\"border_fill_color\":\"#15191C\"}},2,0]]}}]}};\n",
       "  const render_items = [{\"docid\":\"ca5aa116-2e63-4191-a003-c67b846f7f25\",\"roots\":{\"p6449\":\"ca461f7d-5df2-4e33-b1bc-94f7b7dc999a\"},\"root_ids\":[\"p6449\"]}];\n",
       "  root.Bokeh.embed.embed_items_notebook(docs_json, render_items);\n",
       "  }\n",
       "  if (root.Bokeh !== undefined) {\n",
       "    embed_document(root);\n",
       "  } else {\n",
       "    let attempts = 0;\n",
       "    const timer = setInterval(function(root) {\n",
       "      if (root.Bokeh !== undefined) {\n",
       "        clearInterval(timer);\n",
       "        embed_document(root);\n",
       "      } else {\n",
       "        attempts++;\n",
       "        if (attempts > 100) {\n",
       "          clearInterval(timer);\n",
       "          console.log(\"Bokeh: ERROR: Unable to run BokehJS code because BokehJS library is missing\");\n",
       "        }\n",
       "      }\n",
       "    }, 10, root)\n",
       "  }\n",
       "})(window);"
      ],
      "application/vnd.bokehjs_exec.v0+json": ""
     },
     "metadata": {
      "application/vnd.bokehjs_exec.v0+json": {
       "id": "p6449"
      }
     },
     "output_type": "display_data"
    }
   ],
   "source": [
    "# Build the grid plot \n",
    "from bokeh.layouts import gridplot\n",
    "\n",
    "# Create the grid \n",
    "\n",
    "grid = gridplot([[plotMap()],[plotMagnitude()],[plotBar()]], sizing_mode='scale_width')\n",
    "\n",
    "# Show the grid \n",
    "\n",
    "show(grid)\n"
   ]
  },
  {
   "cell_type": "code",
   "execution_count": null,
   "id": "8ebd0b39",
   "metadata": {},
   "outputs": [],
   "source": []
  }
 ],
 "metadata": {
  "kernelspec": {
   "display_name": "Python 3 (ipykernel)",
   "language": "python",
   "name": "python3"
  },
  "language_info": {
   "codemirror_mode": {
    "name": "ipython",
    "version": 3
   },
   "file_extension": ".py",
   "mimetype": "text/x-python",
   "name": "python",
   "nbconvert_exporter": "python",
   "pygments_lexer": "ipython3",
   "version": "3.11.5"
  }
 },
 "nbformat": 4,
 "nbformat_minor": 5
}
